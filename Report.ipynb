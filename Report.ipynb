{
 "cells": [
  {
   "cell_type": "markdown",
   "metadata": {},
   "source": [
    "# Nanodegree Engenheiro de Machine Learning\n",
    "## Projeto final\n",
    "Arthur Pimenta \n",
    "28 de maio de 2019"
   ]
  },
  {
   "cell_type": "markdown",
   "metadata": {},
   "source": [
    "## I. Definição\n",
    "_(aprox. 1-2 páginas)_"
   ]
  },
  {
   "cell_type": "markdown",
   "metadata": {},
   "source": [
    "### Visão geral do projeto\n",
    "Nesta seção, procure fornecer uma visão de alto nível do projeto em linguagem simples. Questões para se perguntar ao escrever esta seção:\n",
    "- _Foi fornecido um resumo do projeto final, bem como o domínio do problema, a origem do projeto e o conjunto de dados ou entradas?_\n",
    "- _Foram dadas informações suficientes sobre o contexto para que um leitor desinformado possa entender o domínio e a enunciação problema?_"
   ]
  },
  {
   "cell_type": "markdown",
   "metadata": {},
   "source": [
    "### Descrição do problema\n",
    "Nesta seção, você irá definir o problema que você está tentando resolver de forma clara, incluindo a estratégia (resumo das tarefas) que você irá utilizar para alcançar a solução desejada. Você deverá também discutir detalhadamente qual será a solução pretendida para este problema. Questões para se perguntar ao escrever esta seção:\n",
    "- _A enunciação do problema foi claramente definida? O leitor irá entender o que você está esperando resolver?_\n",
    "- _Você discutiu detalhadamente como irá tentar resolver o problema?_\n",
    "- _A solução antecipada está claramente definida? O leitor entenderá quais resultados você está procurando?_"
   ]
  },
  {
   "cell_type": "markdown",
   "metadata": {},
   "source": [
    "### Métricas\n",
    "Nesta seção, você precisará definir claramente as métricas ou cálculos que você irá usar para avaliar o desempenho de um modelo ou resultado no seu projeto. Esses cálculos e métricas devem ser justificadas baseado nas características do problema e domínio do problema. Questões para se perguntar ao escrever esta seção:\n",
    "- _As métricas que você escolheu para medir o desempenho de seus modelos foram discutidas e definidas de forma clara?_\n",
    "- _Você forneceu justificativas razoáveis para as métricas escolhidas, baseando-se no problema e solução?_"
   ]
  },
  {
   "cell_type": "markdown",
   "metadata": {},
   "source": [
    "## II. Análise\n",
    "_(aprox. 2-4 páginas)_"
   ]
  },
  {
   "cell_type": "markdown",
   "metadata": {},
   "source": [
    "### Exploração dos dados\n",
    "Nesta seção, é esperado que você analise os dados que você está usando para o problema. Esses dados podem ser tanto na forma de um conjunto de dados (ou conjuntos de dados), dados de entrada (ou arquivos de entrada), ou até um ambiente. O tipo de dados deve ser descrito detalhadamente e, se possível, ter estatísticas e informações básicas apresentadas (tais como discussão dos atributos de entrada ou definição de características das entradas ou do ambiente) Qualquer anormalidade ou qualidade interessante dos dados que possam precisar ser devidamente tratadas devem ser identificadas (tais como características que precisem ser transformadas ou a possibilidade de valores atípicos) Questões para se perguntar ao escrever esta seção:\n",
    "- _Se exite um conjunto de dados para o problema em questão, você discutiu totalmente as características desse conjunto? Uma amostra dos dados foi oferecida ao leitor?_\n",
    "- _Se existe um conjunto de dados para o problema, as estatísticas sobre eles foram calculadas e reportadas? Foram discutidos quaisquer resultados relevantes desses cálculos?_\n",
    "- _Se **não** existe um conjunto de dados para o problema, foi realizada uma discussão sobre o espaço de entrada ou os dados de entrada do problema?_\n",
    "- _Existem anormalidades ou características acerca do espaço de entrada ou conjunto de dados que necessitem ser direcionados? (variáveis categóricas, valores faltando, valores atípicos, etc.)_"
   ]
  },
  {
   "cell_type": "code",
   "execution_count": 1,
   "metadata": {},
   "outputs": [],
   "source": [
    "import pandas as pd\n",
    "import numpy as np\n",
    "import matplotlib.pyplot as plt\n",
    "from collections import Counter"
   ]
  },
  {
   "cell_type": "code",
   "execution_count": 2,
   "metadata": {},
   "outputs": [
    {
     "name": "stdout",
     "output_type": "stream",
     "text": [
      "(404290, 6)\n"
     ]
    }
   ],
   "source": [
    "# Dados de treino\n",
    "df_train = pd.read_csv(\"../../quora-question-pairs/input/train.csv\")\n",
    "print(df_train.shape)"
   ]
  },
  {
   "cell_type": "code",
   "execution_count": 3,
   "metadata": {},
   "outputs": [
    {
     "data": {
      "text/html": [
       "<div>\n",
       "<style scoped>\n",
       "    .dataframe tbody tr th:only-of-type {\n",
       "        vertical-align: middle;\n",
       "    }\n",
       "\n",
       "    .dataframe tbody tr th {\n",
       "        vertical-align: top;\n",
       "    }\n",
       "\n",
       "    .dataframe thead th {\n",
       "        text-align: right;\n",
       "    }\n",
       "</style>\n",
       "<table border=\"1\" class=\"dataframe\">\n",
       "  <thead>\n",
       "    <tr style=\"text-align: right;\">\n",
       "      <th></th>\n",
       "      <th>id</th>\n",
       "      <th>qid1</th>\n",
       "      <th>qid2</th>\n",
       "      <th>question1</th>\n",
       "      <th>question2</th>\n",
       "      <th>is_duplicate</th>\n",
       "    </tr>\n",
       "  </thead>\n",
       "  <tbody>\n",
       "    <tr>\n",
       "      <th>0</th>\n",
       "      <td>0</td>\n",
       "      <td>1</td>\n",
       "      <td>2</td>\n",
       "      <td>What is the step by step guide to invest in sh...</td>\n",
       "      <td>What is the step by step guide to invest in sh...</td>\n",
       "      <td>0</td>\n",
       "    </tr>\n",
       "    <tr>\n",
       "      <th>1</th>\n",
       "      <td>1</td>\n",
       "      <td>3</td>\n",
       "      <td>4</td>\n",
       "      <td>What is the story of Kohinoor (Koh-i-Noor) Dia...</td>\n",
       "      <td>What would happen if the Indian government sto...</td>\n",
       "      <td>0</td>\n",
       "    </tr>\n",
       "    <tr>\n",
       "      <th>2</th>\n",
       "      <td>2</td>\n",
       "      <td>5</td>\n",
       "      <td>6</td>\n",
       "      <td>How can I increase the speed of my internet co...</td>\n",
       "      <td>How can Internet speed be increased by hacking...</td>\n",
       "      <td>0</td>\n",
       "    </tr>\n",
       "    <tr>\n",
       "      <th>3</th>\n",
       "      <td>3</td>\n",
       "      <td>7</td>\n",
       "      <td>8</td>\n",
       "      <td>Why am I mentally very lonely? How can I solve...</td>\n",
       "      <td>Find the remainder when [math]23^{24}[/math] i...</td>\n",
       "      <td>0</td>\n",
       "    </tr>\n",
       "    <tr>\n",
       "      <th>4</th>\n",
       "      <td>4</td>\n",
       "      <td>9</td>\n",
       "      <td>10</td>\n",
       "      <td>Which one dissolve in water quikly sugar, salt...</td>\n",
       "      <td>Which fish would survive in salt water?</td>\n",
       "      <td>0</td>\n",
       "    </tr>\n",
       "  </tbody>\n",
       "</table>\n",
       "</div>"
      ],
      "text/plain": [
       "   id  qid1  qid2                                          question1  \\\n",
       "0   0     1     2  What is the step by step guide to invest in sh...   \n",
       "1   1     3     4  What is the story of Kohinoor (Koh-i-Noor) Dia...   \n",
       "2   2     5     6  How can I increase the speed of my internet co...   \n",
       "3   3     7     8  Why am I mentally very lonely? How can I solve...   \n",
       "4   4     9    10  Which one dissolve in water quikly sugar, salt...   \n",
       "\n",
       "                                           question2  is_duplicate  \n",
       "0  What is the step by step guide to invest in sh...             0  \n",
       "1  What would happen if the Indian government sto...             0  \n",
       "2  How can Internet speed be increased by hacking...             0  \n",
       "3  Find the remainder when [math]23^{24}[/math] i...             0  \n",
       "4            Which fish would survive in salt water?             0  "
      ]
     },
     "execution_count": 3,
     "metadata": {},
     "output_type": "execute_result"
    }
   ],
   "source": [
    "df_train.head()"
   ]
  },
  {
   "cell_type": "code",
   "execution_count": 4,
   "metadata": {},
   "outputs": [
    {
     "name": "stdout",
     "output_type": "stream",
     "text": [
      "Coluna: question1, Valores faltantes: 1\n",
      "Coluna: question2, Valores faltantes: 2\n"
     ]
    }
   ],
   "source": [
    "# Dados faltantes\n",
    "null_columns = df_train.columns[df_train.isnull().any()]\n",
    "values = df_train[null_columns].isnull().sum()\n",
    "\n",
    "for c, v in zip(null_columns, values):\n",
    "    print('Coluna: {}, Valores faltantes: {}'.format(c, v))"
   ]
  },
  {
   "cell_type": "code",
   "execution_count": 5,
   "metadata": {},
   "outputs": [],
   "source": [
    "df_train.fillna('', inplace=True)"
   ]
  },
  {
   "cell_type": "code",
   "execution_count": null,
   "metadata": {},
   "outputs": [],
   "source": [
    "c = Counter()\n",
    "c.update(df_train['qid1'].values)\n",
    "c.update(df_train['qid2'].values)\n"
   ]
  },
  {
   "cell_type": "code",
   "execution_count": 6,
   "metadata": {},
   "outputs": [
    {
     "name": "stdout",
     "output_type": "stream",
     "text": [
      "Número de perguntas que aparecem mais de uma vez: 111780\n",
      "Número de perguntas: 537933\n"
     ]
    }
   ],
   "source": [
    "c = Counter()\n",
    "c.update(df_train['qid1'].values)\n",
    "c.update(df_train['qid2'].values)\n",
    "\n",
    "print('Número de perguntas que aparecem mais de uma vez: {}'.format(np.sum(np.array(list(c.values())) > 1)))\n",
    "\n",
    "print('Número de perguntas: {}'.format(len(c)))"
   ]
  },
  {
   "cell_type": "code",
   "execution_count": 7,
   "metadata": {},
   "outputs": [
    {
     "name": "stdout",
     "output_type": "stream",
     "text": [
      "Perguntas duplicadas is_duplicate\n",
      "0    255027\n",
      "1    149263\n",
      "Name: id, dtype: int64\n"
     ]
    }
   ],
   "source": [
    "# Percentual de pares duplicadas na base de dados\n",
    "duplicate_group = df_train.groupby('is_duplicate')['id'].count()\n",
    "print('Perguntas duplicadas {}'.format(duplicate_group))"
   ]
  },
  {
   "cell_type": "code",
   "execution_count": 8,
   "metadata": {},
   "outputs": [
    {
     "name": "stdout",
     "output_type": "stream",
     "text": [
      "Percentual de pares duplicados: 0.3692%\n"
     ]
    }
   ],
   "source": [
    "print('Percentual de pares duplicados: {:.4f}%'.format(duplicate_group[1] / (duplicate_group.sum())))"
   ]
  },
  {
   "cell_type": "code",
   "execution_count": 9,
   "metadata": {},
   "outputs": [
    {
     "data": {
      "image/png": "[encoded data removed]",
      "text/plain": [
       "<Figure size 432x288 with 1 Axes>"
      ]
     },
     "metadata": {
      "needs_background": "light"
     },
     "output_type": "display_data"
    }
   ],
   "source": [
    "fig, ax = plt.subplots()\n",
    "ax.bar('0', duplicate_group[0])\n",
    "ax.bar('1', duplicate_group[1])\n",
    "ax.set_title('Simple plot')\n",
    "plt.show()"
   ]
  },
  {
   "cell_type": "code",
   "execution_count": 10,
   "metadata": {},
   "outputs": [
    {
     "data": {
      "text/plain": [
       "(808580,)"
      ]
     },
     "execution_count": 10,
     "metadata": {},
     "output_type": "execute_result"
    }
   ],
   "source": [
    "questions = pd.concat([df_train['question1'], df_train['question2']], axis=0)\n",
    "questions.shape"
   ]
  },
  {
   "cell_type": "code",
   "execution_count": 11,
   "metadata": {},
   "outputs": [],
   "source": [
    "df_train.drop(['id', 'qid1', 'qid2'], inplace=True, axis=1)"
   ]
  },
  {
   "cell_type": "code",
   "execution_count": 61,
   "metadata": {},
   "outputs": [
    {
     "data": {
      "text/html": [
       "<div>\n",
       "<style scoped>\n",
       "    .dataframe tbody tr th:only-of-type {\n",
       "        vertical-align: middle;\n",
       "    }\n",
       "\n",
       "    .dataframe tbody tr th {\n",
       "        vertical-align: top;\n",
       "    }\n",
       "\n",
       "    .dataframe thead th {\n",
       "        text-align: right;\n",
       "    }\n",
       "</style>\n",
       "<table border=\"1\" class=\"dataframe\">\n",
       "  <thead>\n",
       "    <tr style=\"text-align: right;\">\n",
       "      <th></th>\n",
       "      <th>question1</th>\n",
       "      <th>question2</th>\n",
       "      <th>is_duplicate</th>\n",
       "    </tr>\n",
       "  </thead>\n",
       "  <tbody>\n",
       "    <tr>\n",
       "      <th>0</th>\n",
       "      <td>What is the step by step guide to invest in sh...</td>\n",
       "      <td>What is the step by step guide to invest in sh...</td>\n",
       "      <td>0</td>\n",
       "    </tr>\n",
       "    <tr>\n",
       "      <th>1</th>\n",
       "      <td>What is the story of Kohinoor (Koh-i-Noor) Dia...</td>\n",
       "      <td>What would happen if the Indian government sto...</td>\n",
       "      <td>0</td>\n",
       "    </tr>\n",
       "    <tr>\n",
       "      <th>2</th>\n",
       "      <td>How can I increase the speed of my internet co...</td>\n",
       "      <td>How can Internet speed be increased by hacking...</td>\n",
       "      <td>0</td>\n",
       "    </tr>\n",
       "    <tr>\n",
       "      <th>3</th>\n",
       "      <td>Why am I mentally very lonely? How can I solve...</td>\n",
       "      <td>Find the remainder when [math]23^{24}[/math] i...</td>\n",
       "      <td>0</td>\n",
       "    </tr>\n",
       "    <tr>\n",
       "      <th>4</th>\n",
       "      <td>Which one dissolve in water quikly sugar, salt...</td>\n",
       "      <td>Which fish would survive in salt water?</td>\n",
       "      <td>0</td>\n",
       "    </tr>\n",
       "  </tbody>\n",
       "</table>\n",
       "</div>"
      ],
      "text/plain": [
       "                                           question1  \\\n",
       "0  What is the step by step guide to invest in sh...   \n",
       "1  What is the story of Kohinoor (Koh-i-Noor) Dia...   \n",
       "2  How can I increase the speed of my internet co...   \n",
       "3  Why am I mentally very lonely? How can I solve...   \n",
       "4  Which one dissolve in water quikly sugar, salt...   \n",
       "\n",
       "                                           question2  is_duplicate  \n",
       "0  What is the step by step guide to invest in sh...             0  \n",
       "1  What would happen if the Indian government sto...             0  \n",
       "2  How can Internet speed be increased by hacking...             0  \n",
       "3  Find the remainder when [math]23^{24}[/math] i...             0  \n",
       "4            Which fish would survive in salt water?             0  "
      ]
     },
     "execution_count": 61,
     "metadata": {},
     "output_type": "execute_result"
    }
   ],
   "source": [
    "df_train.head()"
   ]
  },
  {
   "cell_type": "code",
   "execution_count": 12,
   "metadata": {},
   "outputs": [
    {
     "name": "stdout",
     "output_type": "stream",
     "text": [
      "What is the step by step guide to invest in share market in india?\n",
      "What is the step by step guide to invest in share market?\n",
      "\n",
      "What is the story of Kohinoor (Koh-i-Noor) Diamond?\n",
      "What would happen if the Indian government stole the Kohinoor (Koh-i-Noor) diamond back?\n",
      "\n",
      "How can I increase the speed of my internet connection while using a VPN?\n",
      "How can Internet speed be increased by hacking through DNS?\n",
      "\n",
      "Why am I mentally very lonely? How can I solve it?\n",
      "Find the remainder when [math]23^{24}[/math] is divided by 24,23?\n",
      "\n",
      "Which one dissolve in water quikly sugar, salt, methane and carbon di oxide?\n",
      "Which fish would survive in salt water?\n",
      "\n"
     ]
    }
   ],
   "source": [
    "for i in range(5):\n",
    "    print(df_train.iloc[i].question1)\n",
    "    print(df_train.iloc[i].question2)\n",
    "    print()"
   ]
  },
  {
   "cell_type": "code",
   "execution_count": 65,
   "metadata": {},
   "outputs": [],
   "source": [
    "from gensim.parsing.preprocessing import *\n",
    "from nltk.corpus import stopwords\n",
    "\n",
    "stop_words = stopwords.words('english')\n",
    "words = ['what', 'which', 'who', 'whom', 'when', 'where', 'why', 'how']\n",
    "for w in words:\n",
    "    stop_words.remove(w)\n",
    "\n",
    "def question_preprocessing(question):\n",
    "    question = question.lower()\n",
    "    question = strip_punctuation(question)\n",
    "    question = strip_numeric(question)\n",
    "    question = strip_non_alphanum(question)\n",
    "    question = strip_multiple_whitespaces(question)\n",
    "    question = [w for w in question.split() if not w in stop_words]\n",
    "    question = \" \".join(question)\n",
    "    question = strip_short(question, minsize=3)\n",
    "    question = stem_text(question)\n",
    "    \n",
    "    return question"
   ]
  },
  {
   "cell_type": "code",
   "execution_count": 66,
   "metadata": {},
   "outputs": [
    {
     "name": "stdout",
     "output_type": "stream",
     "text": [
      "what step step guid invest share market india\n",
      "what step step guid invest share market\n",
      "\n",
      "what stori kohinoor koh noor diamond\n",
      "what would happen indian govern stole kohinoor koh noor diamond back\n",
      "\n",
      "how increas speed internet connect us vpn\n",
      "how internet speed increas hack dn\n",
      "\n",
      "why mental lone how solv\n",
      "find remaind when math math divid\n",
      "\n",
      "which on dissolv water quikli sugar salt methan carbon oxid\n",
      "which fish would surviv salt water\n",
      "\n"
     ]
    }
   ],
   "source": [
    "for i in range(5):\n",
    "    print(text_preprocessing_gensim(df_train.iloc[i].question1))\n",
    "    print(text_preprocessing_gensim(df_train.iloc[i].question2))\n",
    "    print()"
   ]
  },
  {
   "cell_type": "code",
   "execution_count": 81,
   "metadata": {},
   "outputs": [
    {
     "data": {
      "text/html": [
       "<div>\n",
       "<style scoped>\n",
       "    .dataframe tbody tr th:only-of-type {\n",
       "        vertical-align: middle;\n",
       "    }\n",
       "\n",
       "    .dataframe tbody tr th {\n",
       "        vertical-align: top;\n",
       "    }\n",
       "\n",
       "    .dataframe thead th {\n",
       "        text-align: right;\n",
       "    }\n",
       "</style>\n",
       "<table border=\"1\" class=\"dataframe\">\n",
       "  <thead>\n",
       "    <tr style=\"text-align: right;\">\n",
       "      <th></th>\n",
       "      <th>question1</th>\n",
       "      <th>question2</th>\n",
       "      <th>is_duplicate</th>\n",
       "    </tr>\n",
       "  </thead>\n",
       "  <tbody>\n",
       "    <tr>\n",
       "      <th>0</th>\n",
       "      <td>what step step guid invest share market india</td>\n",
       "      <td>what step step guid invest share market</td>\n",
       "      <td>0</td>\n",
       "    </tr>\n",
       "    <tr>\n",
       "      <th>1</th>\n",
       "      <td>what stori kohinoor koh noor diamond</td>\n",
       "      <td>what would happen indian govern stole kohinoor...</td>\n",
       "      <td>0</td>\n",
       "    </tr>\n",
       "    <tr>\n",
       "      <th>2</th>\n",
       "      <td>how increas speed internet connect us vpn</td>\n",
       "      <td>how internet speed increas hack dn</td>\n",
       "      <td>0</td>\n",
       "    </tr>\n",
       "    <tr>\n",
       "      <th>3</th>\n",
       "      <td>why mental lone how solv</td>\n",
       "      <td>find remaind when math math divid</td>\n",
       "      <td>0</td>\n",
       "    </tr>\n",
       "    <tr>\n",
       "      <th>4</th>\n",
       "      <td>which on dissolv water quikli sugar salt metha...</td>\n",
       "      <td>which fish would surviv salt water</td>\n",
       "      <td>0</td>\n",
       "    </tr>\n",
       "  </tbody>\n",
       "</table>\n",
       "</div>"
      ],
      "text/plain": [
       "                                           question1  \\\n",
       "0      what step step guid invest share market india   \n",
       "1               what stori kohinoor koh noor diamond   \n",
       "2          how increas speed internet connect us vpn   \n",
       "3                           why mental lone how solv   \n",
       "4  which on dissolv water quikli sugar salt metha...   \n",
       "\n",
       "                                           question2  is_duplicate  \n",
       "0            what step step guid invest share market             0  \n",
       "1  what would happen indian govern stole kohinoor...             0  \n",
       "2                 how internet speed increas hack dn             0  \n",
       "3                  find remaind when math math divid             0  \n",
       "4                 which fish would surviv salt water             0  "
      ]
     },
     "execution_count": 81,
     "metadata": {},
     "output_type": "execute_result"
    }
   ],
   "source": [
    "df_train.head()"
   ]
  },
  {
   "cell_type": "code",
   "execution_count": 68,
   "metadata": {},
   "outputs": [],
   "source": [
    "df_train.question1 = df_train.question1.map(lambda q: question_preprocessing(q))\n",
    "df_train.question2 = df_train.question2.map(lambda q: question_preprocessing(q))"
   ]
  },
  {
   "cell_type": "code",
   "execution_count": 124,
   "metadata": {},
   "outputs": [],
   "source": [
    "df_is_duplicate = df_train[df_train['is_duplicate'] == 1]\n",
    "df_is_not_duplicate = df_train[df_train['is_duplicate'] == 0]"
   ]
  },
  {
   "cell_type": "code",
   "execution_count": 336,
   "metadata": {},
   "outputs": [
    {
     "data": {
      "text/plain": [
       "(4000, 3)"
      ]
     },
     "execution_count": 336,
     "metadata": {},
     "output_type": "execute_result"
    }
   ],
   "source": [
    "df_train_balanced = pd.concat([df_is_duplicate[:2000], df_is_not_duplicate[:2000]])\n",
    "df_train_balanced.shape"
   ]
  },
  {
   "cell_type": "code",
   "execution_count": 337,
   "metadata": {},
   "outputs": [],
   "source": [
    "questions = pd.Series(pd.concat([df_train_balanced.question1, df_train_balanced.question2], axis=0).unique())"
   ]
  },
  {
   "cell_type": "code",
   "execution_count": 338,
   "metadata": {},
   "outputs": [
    {
     "data": {
      "text/plain": [
       "(7525,)"
      ]
     },
     "execution_count": 338,
     "metadata": {},
     "output_type": "execute_result"
    }
   ],
   "source": [
    "questions.shape"
   ]
  },
  {
   "cell_type": "code",
   "execution_count": 339,
   "metadata": {},
   "outputs": [
    {
     "data": {
      "text/plain": [
       "TfidfVectorizer(analyzer='word', binary=False, decode_error='strict',\n",
       "                dtype=<class 'numpy.float64'>, encoding='utf-8',\n",
       "                input='content', lowercase=True, max_df=1.0, max_features=None,\n",
       "                min_df=1, ngram_range=(1, 1), norm='l2', preprocessor=None,\n",
       "                smooth_idf=True, stop_words=None, strip_accents=None,\n",
       "                sublinear_tf=False, token_pattern='(?u)\\\\b\\\\w\\\\w+\\\\b',\n",
       "                tokenizer=None, use_idf=True, vocabulary=None)"
      ]
     },
     "execution_count": 339,
     "metadata": {},
     "output_type": "execute_result"
    }
   ],
   "source": [
    "from sklearn.feature_extraction.text import TfidfVectorizer\n",
    "\n",
    "vectorizer = TfidfVectorizer()\n",
    "vectorizer.fit(questions)"
   ]
  },
  {
   "cell_type": "code",
   "execution_count": 340,
   "metadata": {},
   "outputs": [],
   "source": [
    "import scipy as sp\n",
    "\n",
    "def dist_norm(v1, v2):\n",
    "    v1_normalized = v1/sp.linalg.norm(v1.toarray())\n",
    "    v2_normalized = v2/sp.linalg.norm(v2.toarray())\n",
    "    delta = v1_normalized - v2_normalized\n",
    "    return sp.linalg.norm(delta.toarray())"
   ]
  },
  {
   "cell_type": "code",
   "execution_count": 341,
   "metadata": {},
   "outputs": [],
   "source": [
    "from scipy.spatial import distance\n",
    "\n",
    "is_duplicate_dists = []\n",
    "is_not_duplicate_dists = []\n",
    "\n",
    "for i in range(df_train_balanced.shape[0]//2):\n",
    "    q1 = df_is_duplicate.iloc[i].question1\n",
    "    q2 = df_is_duplicate.iloc[i].question2\n",
    "    q1 = vectorizer.transform([q1])\n",
    "    q2 = vectorizer.transform([q2])\n",
    "    is_duplicate_dists.append(distance.sqeuclidean(q1.toarray(), q2.toarray()))\n",
    "    \n",
    "    q1 = df_is_not_duplicate.iloc[i].question1\n",
    "    q2 = df_is_not_duplicate.iloc[i].question2\n",
    "    q1 = vectorizer.transform([q1])\n",
    "    q2 = vectorizer.transform([q2])\n",
    "    is_not_duplicate_dists.append(distance.sqeuclidean(q1.toarray(), q2.toarray()))    "
   ]
  },
  {
   "cell_type": "code",
   "execution_count": 342,
   "metadata": {},
   "outputs": [],
   "source": [
    "# normalizando euclidian dists\n",
    "from sklearn.preprocessing import normalize\n",
    "\n",
    "highest_dist = np.max(np.array(is_duplicate_dists + is_not_duplicate_dists))\n",
    "\n",
    "x1 = np.array(is_duplicate_dists)\n",
    "x1 = x1/highest_dist\n",
    "\n",
    "x2 = np.array(is_not_duplicate_dists)\n",
    "x2 = x2/highest_dist"
   ]
  },
  {
   "cell_type": "code",
   "execution_count": 343,
   "metadata": {},
   "outputs": [
    {
     "data": {
      "image/png": "[encoded data removed]",
      "text/plain": [
       "<Figure size 432x288 with 1 Axes>"
      ]
     },
     "metadata": {
      "needs_background": "light"
     },
     "output_type": "display_data"
    }
   ],
   "source": [
    "bins = [0, .1, .2, .3, .4, .5, .6 , .7, .8, .9, 1]\n",
    "bins2 = [0, .2, .4, .6 , .8, 1]\n",
    "\n",
    "plt.hist(x1, bins = bins)\n",
    "plt.hist(x2, bins = bins, alpha = 0.5)\n",
    "\n",
    "plt.show()"
   ]
  },
  {
   "cell_type": "code",
   "execution_count": 108,
   "metadata": {},
   "outputs": [
    {
     "name": "stdout",
     "output_type": "stream",
     "text": [
      "astrolog capricorn sun cap moon cap rise what sai\n",
      "tripl capricorn sun moon ascend capricorn what sai\n",
      "1\n",
      "1.0092848393147544\n",
      "\n",
      "how good geologist\n",
      "what great geologist\n",
      "1\n",
      "0.6451836160108996\n",
      "\n",
      "how read find youtub comment\n",
      "how see youtub comment\n",
      "1\n",
      "0.7879166525166733\n",
      "\n",
      "what make physic easi learn\n",
      "how make physic easi learn\n",
      "1\n",
      "0.2553585594091951\n",
      "\n",
      "what first sexual experi like\n",
      "what first sexual experi\n",
      "1\n",
      "0.3545429055606367\n",
      "\n",
      "what would trump presid mean current intern master student visa\n",
      "how trump presid affect student present plan studi\n",
      "1\n",
      "1.1497379374487329\n",
      "\n",
      "what manipul mean\n",
      "what manipul mean\n",
      "1\n",
      "0.0\n",
      "\n",
      "why mani quora user post question readili answer googl\n",
      "why peopl ask quora question which answer easili googl\n",
      "1\n",
      "1.0582491499675533\n",
      "\n",
      "why rocket look white\n",
      "why rocket booster paint white\n",
      "1\n",
      "0.8958013831326762\n",
      "\n",
      "how prepar final law\n",
      "how on know complet prepar final exam\n",
      "1\n",
      "0.9590457874696703\n",
      "\n"
     ]
    }
   ],
   "source": [
    "for i in range(10):\n",
    "    q1 = duplicated_questions.iloc[i].question1\n",
    "    q2 = duplicated_questions.iloc[i].question2\n",
    "    print(q1)\n",
    "    print(q2)\n",
    "    print(duplicated_questions.iloc[i].is_duplicate)\n",
    "    q1 = vectorizer.transform([q1])\n",
    "    q2 = vectorizer.transform([q2])\n",
    "    print(dist_norm(q1, q2))\n",
    "    print()"
   ]
  },
  {
   "cell_type": "code",
   "execution_count": 106,
   "metadata": {},
   "outputs": [
    {
     "name": "stdout",
     "output_type": "stream",
     "text": [
      "what step step guid invest share market india\n",
      "what step step guid invest share market\n",
      "0\n",
      "0.21350013242800242\n",
      "\n",
      "what stori kohinoor koh noor diamond\n",
      "what would happen indian govern stole kohinoor koh noor diamond back\n",
      "0\n",
      "0.6760369929609276\n",
      "\n",
      "how increas speed internet connect us vpn\n",
      "how internet speed increas hack dn\n",
      "0\n",
      "1.0175495688785492\n",
      "\n",
      "why mental lone how solv\n",
      "find remaind when math math divid\n",
      "0\n",
      "1.4142135623730951\n",
      "\n",
      "which on dissolv water quikli sugar salt methan carbon oxid\n",
      "which fish would surviv salt water\n",
      "0\n",
      "1.200489108125115\n",
      "\n",
      "bui tiago\n",
      "what keep childern activ far phone video game\n",
      "0\n",
      "1.414213562373095\n",
      "\n",
      "when us instead\n",
      "when us instead\n",
      "0\n",
      "0.0\n",
      "\n",
      "motorola compani hack charter motorolla dcx\n",
      "how hack motorola dcx free internet\n",
      "0\n",
      "0.8502500745526534\n",
      "\n",
      "method find separ slit us fresnel biprism\n",
      "what thing technician tell durabl reliabl laptop compon\n",
      "0\n",
      "1.4142135623730951\n",
      "\n",
      "what law chang statu student visa green card how compar immigr law canada\n",
      "what law chang statu student visa green card how compar immigr law japan\n",
      "0\n",
      "0.4170209615200646\n",
      "\n"
     ]
    }
   ],
   "source": [
    "for i in range(10):\n",
    "    q1 = non_duplicated_questions.iloc[i].question1\n",
    "    q2 = non_duplicated_questions.iloc[i].question2\n",
    "    print(q1)\n",
    "    print(q2)\n",
    "    print(non_duplicated_questions.iloc[i].is_duplicate)\n",
    "    q1 = vectorizer.transform([q1])\n",
    "    q2 = vectorizer.transform([q2])\n",
    "    print(dist_norm(q1, q2))\n",
    "    print()"
   ]
  },
  {
   "cell_type": "code",
   "execution_count": 235,
   "metadata": {},
   "outputs": [],
   "source": [
    "# questions_ordered = {}\n",
    "\n",
    "# index=0\n",
    "# for i in range(0, 1000):\n",
    "#     questions_ordered[index] = df_train.iloc[i]['question1']\n",
    "#     questions_ordered[index+1] = df_train.iloc[i]['question2']\n",
    "#     index+=2\n",
    "# len(questions_ordered)"
   ]
  },
  {
   "cell_type": "code",
   "execution_count": 236,
   "metadata": {},
   "outputs": [],
   "source": [
    "# from sklearn.feature_extraction.text import TfidfVectorizer\n",
    "# import nltk.stem\n",
    "\n",
    "# english_stemmer = nltk.stem.SnowballStemmer('english')\n",
    "# class StemmedTfidfVectorizer(TfidfVectorizer):\n",
    "#     def build_analyzer(self):\n",
    "#         analyzer = super(TfidfVectorizer, self).build_analyzer()\n",
    "#         return lambda doc: (english_stemmer.stem(w) for w in analyzer(doc))"
   ]
  },
  {
   "cell_type": "code",
   "execution_count": 11,
   "metadata": {},
   "outputs": [],
   "source": [
    "# vectorizer = StemmedTfidfVectorizer(min_df=1, \n",
    "#                                     stop_words='english', \n",
    "#                                     decode_error='ignore')\n",
    "# X_train = vectorizer.fit_transform(questions[:10000].values)\n",
    "# num_samples, num_features = X_train.shape\n",
    "# print(\"samples: %d, features: %d\" % (num_samples, num_features))"
   ]
  },
  {
   "cell_type": "code",
   "execution_count": 12,
   "metadata": {},
   "outputs": [],
   "source": [
    "# from sklearn.metrics.pairwise import euclidean_distances\n",
    "\n",
    "# for i in range(0, num_samples, 2):\n",
    "#     dist = euclidean_distances( X_train.getrow(i),  X_train.getrow(i+1))\n",
    "# #     print(f'questions {i} : {i+1}, dist: {dist}')"
   ]
  },
  {
   "cell_type": "markdown",
   "metadata": {},
   "source": [
    "### Visualização exploratória\n",
    "Nesta seção, você precisará fornecer alguma forma de visualização que sintetize ou evidencie uma característica ou atributo relevante sobre os dados. A visualização deve sustentar adequadamente os dados utilizados. Discuta por que essa visualização foi escolhida e por que é relevante. Questões para se perguntar ao escrever esta seção:\n",
    "- _Você visualizou uma característica ou um atributo relevante acerca do conjunto de dados ou dados de entrada?_\n",
    "- _A visualização foi completamente analisada e discutida?_\n",
    "- _Se um gráfico foi fornecido, os eixos, títulos e dados foram claramente definidos?_"
   ]
  },
  {
   "cell_type": "markdown",
   "metadata": {},
   "source": [
    "### Algoritmos e técnicas\n",
    "Nesta seção, você deverá discutir os algoritmos e técnicas que você pretende utilizar para solucionar o problema. Você deverá justificar o uso de cada algoritmo ou técnica baseado nas características do problema e domínio do problema. Questões para se perguntar ao escrever esta seção:\n",
    "- _Os algoritmos que serão utilizados, incluindo quaisquer variáveis/parâmetros padrão do projeto, foram claramente definidos?_\n",
    "- _As técnicas a serem usadas foram adequadamente discutidas e justificadas?_\n",
    "- _Ficou claro como os dados de entrada ou conjuntos de dados serão controlados pelos algoritmos e técnicas escolhidas?_"
   ]
  },
  {
   "cell_type": "markdown",
   "metadata": {},
   "source": [
    "### Benchmark\n",
    "Nesta  seção, você deverá definir claramente um resultado de referência (benchmark) ou limiar para comparar entre desempenhos obtidos pela sua solução. O raciocínio por trás da referência (no caso onde não é estabelecido um resultado) deve ser discutido. Questões para se perguntar ao escrever esta seção:\n",
    "- _Algum resultado ou valor que funcione como referência para a medida de desempenho foi fornecido?_\n",
    "- _Ficou claro como esse resultado ou valor foi obtido (seja por dados ou por hipóteses)?_"
   ]
  },
  {
   "cell_type": "markdown",
   "metadata": {},
   "source": [
    "## III. Metodologia\n",
    "_(aprox. 3-5 páginas)_"
   ]
  },
  {
   "cell_type": "markdown",
   "metadata": {},
   "source": [
    "### Pré-processamento de dados\n",
    "Nesta seção, você deve documentar claramente todos os passos de pré-processamento que você pretende fazer, caso algum seja necessário. A partir da seção anterior, quaisquer anormalidades ou características que você identificou no conjunto de dados deverão ser adequadamente direcionadas e tratadas aqui. Questões para se perguntar ao escrever esta seção:\n",
    "- _Se os algoritmos escolhidos requerem passos de pré-processamento, como seleção ou transformações de atributos, tais passos foram adequadamente documentados?_\n",
    "- _Baseado na seção de **Exploração de dados**, se existiram anormalidade ou características que precisem ser tratadas, elas foram adequadamente corrigidas?_\n",
    "- _Se não é necessário um pré-processamento, foi bem definido o porquê?_"
   ]
  },
  {
   "cell_type": "markdown",
   "metadata": {},
   "source": [
    "### Implementação\n",
    "Nesta seção, o processo de escolha de quais métricas, algoritmos e técnicas deveriam ser implementados para os dados apresentados deve estar claramente documentado. Deve estar bastante claro como a implementação foi feita, e uma discussão deve ser elaborada a respeito de quaisquer complicações ocorridas durante o processo.  Questões para se perguntar ao escrever esta seção:\n",
    "- _Ficou claro como os algoritmos e técnicas foram implementados com os conjuntos de dados e os dados de entrada apresentados?_\n",
    "- _Houve complicações com as métricas ou técnicas originais que acabaram exigindo mudanças antes de chegar à solução?_\n",
    "- _Houve qualquer parte do processo de codificação (escrita de funções complicadas, por exemplo) que deveriam ser documentadas?_"
   ]
  },
  {
   "cell_type": "markdown",
   "metadata": {},
   "source": [
    "### Refinamento\n",
    "Nesta seção, você deverá discutir o processo de aperfeiçoamento dos algoritmos e técnicas usados em sua implementação. Por exemplo, ajuste de parâmetros para que certos modelos obtenham melhores soluções está dentro da categoria de refinamento. Suas soluções inicial e final devem ser registradas, bem como quaisquer outros resultados intermediários significativos, conforme o necessário. Questões para se perguntar ao escrever esta seção:\n",
    "- _Uma solução inicial foi encontrada e claramente reportada?_\n",
    "- _O processo de melhoria foi documentado de foma clara, bem como as técnicas utilizadas?_\n",
    "- _As soluções intermediárias e finais foram reportadas claramente, conforme o processo foi sendo melhorado?_"
   ]
  },
  {
   "cell_type": "markdown",
   "metadata": {},
   "source": [
    "## IV. Resultados\n",
    "_(aprox. 2-3 páginas)_"
   ]
  },
  {
   "cell_type": "markdown",
   "metadata": {},
   "source": [
    "### Modelo de avaliação e validação\n",
    "Nesta seção, o modelo final e quaisquer qualidades que o sustentem devem ser avaliadas em detalhe. Deve ficar claro como o modelo final foi obtido e por que tal modelo foi escolhido. Além disso, algum tipo de análise deve ser realizada para validar a robustez do modelo e sua solução, como, por exemplo, manipular os dados de entrada ou o ambiente para ver como a solução do modelo é afetada (técnica chamada de análise sensitiva). Questões para se perguntar ao escrever esta seção:\n",
    "- _O modelo final é razoável e alinhado com as expectativas de solução? Os parâmetros finais do modelo são apropriados?_\n",
    "- _O modelo final foi testado com várias entradas para avaliar se o modelo generaliza bem com dados não vistos?_\n",
    "-_O modelo é robusto o suficiente para o problema? Pequenas perturbações (mudanças) nos dados de treinamento ou no espaço de entrada afetam os resultados de forma considerável?_\n",
    "- _Os resultados obtidos do modelo são confiáveis?_"
   ]
  },
  {
   "cell_type": "markdown",
   "metadata": {},
   "source": [
    "### Justificativa\n",
    "Nesta seção, a solução final do seu modelo e os resultados dela obtidos devem ser comparados aos valores de referência (benchmark) que você estabeleceu anteriormente no projeto, usando algum tipo de análise estatística. Você deverá também justificar se esses resultados e a solução são significativas o suficiente para ter resolvido o problema apresentado no projeto. Questões para se perguntar ao escrever esta seção:\n",
    "- _Os resultados finais encontrados são mais fortes do que a referência reportada anteriormente?_\n",
    "- _Você analisou e discutiu totalmente a solução final?_\n",
    "- _A solução final é significativa o suficiente para ter resolvido o problema?_"
   ]
  },
  {
   "cell_type": "markdown",
   "metadata": {},
   "source": [
    "## V. Conclusão\n",
    "_(aprox. 1-2 páginas)_"
   ]
  },
  {
   "cell_type": "markdown",
   "metadata": {},
   "source": [
    "### Foma livre de visualização\n",
    "Nesta seção, você deverá fornecer alguma forma de visualização que enfatize uma qualidade importante do projeto. A visualização é de forma livre, mas deve sustentar de forma razoável um resultado ou característica relevante sobre o problema que você quer discutir. Questões para se perguntar ao escrever esta seção:\n",
    "- _Você visualizou uma qualidade importante ou relevante acerca do problema, conjunto de dados, dados de entrada, ou resultados?_\n",
    "- _A visualização foi completamente analisada e discutida?_\n",
    "- _Se um gráfico foi fornecido, os eixos, títulos e dados foram claramente definidos?_"
   ]
  },
  {
   "cell_type": "markdown",
   "metadata": {},
   "source": [
    "### Reflexão\n",
    "Nesta seção, você deverá resumir os procedimentos desde o problema até a solução e discutir um ou dois aspectos  do projeto que você achou particularmente interessante ou difícil. É esperado que você reflita sobre o projeto como um todo de forma a mostrar que você possui um entendimento sólido de todo o processo empregado em seu trabalho. Questões para se perguntar ao escrever esta seção:\n",
    "- _Você resumiu inteiramente o processo que você utilizou neste projeto?_\n",
    "- _Houve algum aspecto interessante do projeto?_\n",
    "- _Houve algum aspecto difícil do projeto?_\n",
    "- _O modelo e solução final alinham-se com suas expectativas para o problema, e devem ser usadas de forma geral para resolver esses tipos de problemas?_"
   ]
  },
  {
   "cell_type": "markdown",
   "metadata": {},
   "source": [
    "### Melhorias\n",
    "Nesta seção, você deverá discutir como um aspecto da sua implementação poderia ser melhorado. Por exemplo, considere maneiras de tornar a sua implementação mais geral e o que precisaria ser modificado. Você não precisa fazer a melhoria, mas as possíveis soluções que resultariam de tais mudanças devem ser consideradas e comparadas/contrastadas com a sua solução atual. Questões para se perguntar ao escrever esta seção:\n",
    "- _Existem melhorias futuras que podem ser feitas nos algoritmos ou técnicas que você usou neste projeto?_\n",
    "- _Existem algoritmos ou técnicas que você pesquisou, porém não soube como implementá-las, mas consideraria usar se você soubesse como?_\n",
    "- _Se você usou sua solução final como nova referência, você acredita existir uma solução ainda melhor?_"
   ]
  },
  {
   "cell_type": "markdown",
   "metadata": {},
   "source": [
    "-----------\n",
    "\n",
    "**Antes de enviar, pergunte-se. . .**\n",
    "\n",
    "- _O relatório de projeto que você escreveu segue uma estrutura bem organizada, similar ao modelo do projeto?_\n",
    "- Cada seção (particularmente **Análise** e **Metodologia**) foi escrita de maneira clara, concisa e específica? Existe algum termo ou frase ambígua que precise de esclarecimento?\n",
    "- O público-alvo do seu projeto será capaz de entender suas análises, métodos e resultados?\n",
    "- Você revisou seu relatório de projeto adequadamente, de forma a minimizar a quantidade de erros gramaticais e ortográficos?\n",
    "- Todos os recursos usados neste projeto foram corretamente citados e referenciados?\n",
    "- O código que implementa sua solução está legível e comentado adequadamente?\n",
    "- O código é executado sem erros e produz resultados similares àqueles reportados?"
   ]
  },
  {
   "cell_type": "code",
   "execution_count": 214,
   "metadata": {},
   "outputs": [],
   "source": [
    "y = list(c.values())"
   ]
  },
  {
   "cell_type": "code",
   "execution_count": 215,
   "metadata": {},
   "outputs": [
    {
     "data": {
      "text/plain": [
       "list"
      ]
     },
     "execution_count": 215,
     "metadata": {},
     "output_type": "execute_result"
    }
   ],
   "source": [
    "type(y)"
   ]
  },
  {
   "cell_type": "code",
   "execution_count": 216,
   "metadata": {},
   "outputs": [
    {
     "data": {
      "text/plain": [
       "[1, 4, 1, 1]"
      ]
     },
     "execution_count": 216,
     "metadata": {},
     "output_type": "execute_result"
    }
   ],
   "source": [
    "y[:4]"
   ]
  },
  {
   "cell_type": "code",
   "execution_count": 217,
   "metadata": {},
   "outputs": [],
   "source": [
    "x = "
   ]
  },
  {
   "cell_type": "code",
   "execution_count": 219,
   "metadata": {},
   "outputs": [
    {
     "data": {
      "text/plain": [
       "6446"
      ]
     },
     "execution_count": 219,
     "metadata": {},
     "output_type": "execute_result"
    }
   ],
   "source": [
    "np.sum(np.array(list(c.values())))"
   ]
  },
  {
   "cell_type": "code",
   "execution_count": null,
   "metadata": {},
   "outputs": [],
   "source": []
  }
 ],
 "metadata": {
  "kernelspec": {
   "display_name": "Python 3",
   "language": "python",
   "name": "python3"
  },
  "language_info": {
   "codemirror_mode": {
    "name": "ipython",
    "version": 3
   },
   "file_extension": ".py",
   "mimetype": "text/x-python",
   "name": "python",
   "nbconvert_exporter": "python",
   "pygments_lexer": "ipython3",
   "version": "3.7.3"
  }
 },
 "nbformat": 4,
 "nbformat_minor": 2
}
