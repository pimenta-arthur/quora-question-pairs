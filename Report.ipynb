{
 "cells": [
  {
   "cell_type": "markdown",
   "metadata": {},
   "source": [
    "# Nanodegree Engenheiro de Machine Learning\n",
    "## Projeto final\n",
    "Arthur Pimenta \n",
    "28 de maio de 2019"
   ]
  },
  {
   "cell_type": "code",
   "execution_count": 1,
   "metadata": {},
   "outputs": [],
   "source": [
    "import pandas as pd\n",
    "import numpy as np\n",
    "import matplotlib.pyplot as plt\n",
    "from collections import Counter\n",
    "import seaborn as sns"
   ]
  },
  {
   "cell_type": "code",
   "execution_count": 2,
   "metadata": {},
   "outputs": [
    {
     "name": "stdout",
     "output_type": "stream",
     "text": [
      "(404290, 6)\n"
     ]
    }
   ],
   "source": [
    "# Dados de treino\n",
    "df_train = pd.read_csv(\"input/train.csv\")\n",
    "print(df_train.shape)"
   ]
  },
  {
   "cell_type": "code",
   "execution_count": 3,
   "metadata": {},
   "outputs": [
    {
     "data": {
      "text/html": [
       "<div>\n",
       "<style scoped>\n",
       "    .dataframe tbody tr th:only-of-type {\n",
       "        vertical-align: middle;\n",
       "    }\n",
       "\n",
       "    .dataframe tbody tr th {\n",
       "        vertical-align: top;\n",
       "    }\n",
       "\n",
       "    .dataframe thead th {\n",
       "        text-align: right;\n",
       "    }\n",
       "</style>\n",
       "<table border=\"1\" class=\"dataframe\">\n",
       "  <thead>\n",
       "    <tr style=\"text-align: right;\">\n",
       "      <th></th>\n",
       "      <th>id</th>\n",
       "      <th>qid1</th>\n",
       "      <th>qid2</th>\n",
       "      <th>question1</th>\n",
       "      <th>question2</th>\n",
       "      <th>is_duplicate</th>\n",
       "    </tr>\n",
       "  </thead>\n",
       "  <tbody>\n",
       "    <tr>\n",
       "      <th>0</th>\n",
       "      <td>0</td>\n",
       "      <td>1</td>\n",
       "      <td>2</td>\n",
       "      <td>What is the step by step guide to invest in sh...</td>\n",
       "      <td>What is the step by step guide to invest in sh...</td>\n",
       "      <td>0</td>\n",
       "    </tr>\n",
       "    <tr>\n",
       "      <th>1</th>\n",
       "      <td>1</td>\n",
       "      <td>3</td>\n",
       "      <td>4</td>\n",
       "      <td>What is the story of Kohinoor (Koh-i-Noor) Dia...</td>\n",
       "      <td>What would happen if the Indian government sto...</td>\n",
       "      <td>0</td>\n",
       "    </tr>\n",
       "    <tr>\n",
       "      <th>2</th>\n",
       "      <td>2</td>\n",
       "      <td>5</td>\n",
       "      <td>6</td>\n",
       "      <td>How can I increase the speed of my internet co...</td>\n",
       "      <td>How can Internet speed be increased by hacking...</td>\n",
       "      <td>0</td>\n",
       "    </tr>\n",
       "    <tr>\n",
       "      <th>3</th>\n",
       "      <td>3</td>\n",
       "      <td>7</td>\n",
       "      <td>8</td>\n",
       "      <td>Why am I mentally very lonely? How can I solve...</td>\n",
       "      <td>Find the remainder when [math]23^{24}[/math] i...</td>\n",
       "      <td>0</td>\n",
       "    </tr>\n",
       "    <tr>\n",
       "      <th>4</th>\n",
       "      <td>4</td>\n",
       "      <td>9</td>\n",
       "      <td>10</td>\n",
       "      <td>Which one dissolve in water quikly sugar, salt...</td>\n",
       "      <td>Which fish would survive in salt water?</td>\n",
       "      <td>0</td>\n",
       "    </tr>\n",
       "  </tbody>\n",
       "</table>\n",
       "</div>"
      ],
      "text/plain": [
       "   id  qid1  qid2                                          question1  \\\n",
       "0   0     1     2  What is the step by step guide to invest in sh...   \n",
       "1   1     3     4  What is the story of Kohinoor (Koh-i-Noor) Dia...   \n",
       "2   2     5     6  How can I increase the speed of my internet co...   \n",
       "3   3     7     8  Why am I mentally very lonely? How can I solve...   \n",
       "4   4     9    10  Which one dissolve in water quikly sugar, salt...   \n",
       "\n",
       "                                           question2  is_duplicate  \n",
       "0  What is the step by step guide to invest in sh...             0  \n",
       "1  What would happen if the Indian government sto...             0  \n",
       "2  How can Internet speed be increased by hacking...             0  \n",
       "3  Find the remainder when [math]23^{24}[/math] i...             0  \n",
       "4            Which fish would survive in salt water?             0  "
      ]
     },
     "execution_count": 3,
     "metadata": {},
     "output_type": "execute_result"
    }
   ],
   "source": [
    "df_train.head()"
   ]
  },
  {
   "cell_type": "code",
   "execution_count": 4,
   "metadata": {},
   "outputs": [
    {
     "name": "stdout",
     "output_type": "stream",
     "text": [
      "+----+------+------+------------------------------------------+------------------------------------------+--------------+\n",
      "| id | qid1 | qid2 |                question1                 |                question2                 | is_duplicate |\n",
      "+----+------+------+------------------------------------------+------------------------------------------+--------------+\n",
      "| 0  |  1   |  2   | What is the step by step guide to invest | What is the step by step guide to invest |      0       |\n",
      "|    |      |      |        in share market in india?         |             in share market?             |              |\n",
      "| 1  |  3   |  4   |  What is the story of Kohinoor (Koh-i-   |     What would happen if the Indian      |      0       |\n",
      "|    |      |      |              Noor) Diamond?              |  government stole the Kohinoor (Koh-i-   |              |\n",
      "|    |      |      |                                          |           Noor) diamond back?            |              |\n",
      "| 2  |  5   |  6   |    How can I increase the speed of my    |  How can Internet speed be increased by  |      0       |\n",
      "|    |      |      |  internet connection while using a VPN?  |           hacking through DNS?           |              |\n",
      "| 3  |  7   |  8   | Why am I mentally very lonely? How can I |         Find the remainder when          |      0       |\n",
      "|    |      |      |                solve it?                 |    [math]23^{24}[/math] is divided by    |              |\n",
      "|    |      |      |                                          |                  24,23?                  |              |\n",
      "| 4  |  9   |  10  |    Which one dissolve in water quikly    | Which fish would survive in salt water?  |      0       |\n",
      "|    |      |      |    sugar, salt, methane and carbon di    |                                          |              |\n",
      "|    |      |      |                  oxide?                  |                                          |              |\n",
      "+----+------+------+------------------------------------------+------------------------------------------+--------------+\n"
     ]
    }
   ],
   "source": [
    "from prettytable import PrettyTable\n",
    "from textwrap import fill\n",
    "\n",
    "x = PrettyTable()\n",
    "x.field_names = df_train.columns\n",
    "for i in range(5):\n",
    "    x.add_row([df_train.iloc[i][0], df_train.iloc[i][1], df_train.iloc[i][2], fill(df_train.iloc[i][3], width=40), fill(df_train.iloc[i][4], width=40), df_train.iloc[i][5]])\n",
    "print(x)"
   ]
  },
  {
   "cell_type": "code",
   "execution_count": 5,
   "metadata": {},
   "outputs": [],
   "source": [
    "# from prettytable import PrettyTable\n",
    "# from textwrap import fill\n",
    "\n",
    "# x = PrettyTable()\n",
    "# x.field_names = df_train.columns\n",
    "# for i in range(5):\n",
    "#     x.add_row([df_train.iloc[i][0], df_train.iloc[i][1], df_train.iloc[i][2], fill(question_preprocessing(df_train.iloc[i][3]), width=40), fill(question_preprocessing(df_train.iloc[i][4]), width=40), df_train.iloc[i][5]])\n",
    "# print(x)"
   ]
  },
  {
   "cell_type": "code",
   "execution_count": 6,
   "metadata": {},
   "outputs": [
    {
     "name": "stdout",
     "output_type": "stream",
     "text": [
      "Coluna: question1, Valores faltantes: 1\n",
      "Coluna: question2, Valores faltantes: 2\n"
     ]
    }
   ],
   "source": [
    "# Dados faltantes\n",
    "null_columns = df_train.columns[df_train.isnull().any()]\n",
    "values = df_train[null_columns].isnull().sum()\n",
    "\n",
    "for c, v in zip(null_columns, values):\n",
    "    print('Coluna: {}, Valores faltantes: {}'.format(c, v))"
   ]
  },
  {
   "cell_type": "code",
   "execution_count": 7,
   "metadata": {},
   "outputs": [],
   "source": [
    "df_train.fillna('', inplace=True)"
   ]
  },
  {
   "cell_type": "code",
   "execution_count": 8,
   "metadata": {},
   "outputs": [],
   "source": [
    "c = Counter()\n",
    "c.update(df_train['qid1'].values)\n",
    "c.update(df_train['qid2'].values)\n"
   ]
  },
  {
   "cell_type": "code",
   "execution_count": 9,
   "metadata": {},
   "outputs": [
    {
     "name": "stdout",
     "output_type": "stream",
     "text": [
      "Número de perguntas que aparecem mais de uma vez: 111780\n",
      "Número de perguntas: 537933\n"
     ]
    }
   ],
   "source": [
    "c = Counter()\n",
    "c.update(df_train['qid1'].values)\n",
    "c.update(df_train['qid2'].values)\n",
    "\n",
    "print('Número de perguntas que aparecem mais de uma vez: {}'.format(np.sum(np.array(list(c.values())) > 1)))\n",
    "\n",
    "print('Número de perguntas: {}'.format(len(c)))"
   ]
  },
  {
   "cell_type": "code",
   "execution_count": 10,
   "metadata": {},
   "outputs": [
    {
     "data": {
      "text/plain": [
       "0.20779539459375052"
      ]
     },
     "execution_count": 10,
     "metadata": {},
     "output_type": "execute_result"
    }
   ],
   "source": [
    "111780/537933"
   ]
  },
  {
   "cell_type": "code",
   "execution_count": 11,
   "metadata": {},
   "outputs": [],
   "source": [
    "question_freq = list(c.values())\n",
    "question_freq = np.array(question_freq)"
   ]
  },
  {
   "cell_type": "code",
   "execution_count": 12,
   "metadata": {},
   "outputs": [
    {
     "data": {
      "text/plain": [
       "(808580,)"
      ]
     },
     "execution_count": 12,
     "metadata": {},
     "output_type": "execute_result"
    }
   ],
   "source": [
    "qids = np.concatenate([df_train['qid1'].values, df_train['qid2'].values], axis=0)\n",
    "qids.shape"
   ]
  },
  {
   "cell_type": "code",
   "execution_count": 13,
   "metadata": {},
   "outputs": [
    {
     "data": {
      "image/png": "[encoded data removed]",
      "text/plain": [
       "<Figure size 504x504 with 1 Axes>"
      ]
     },
     "metadata": {},
     "output_type": "display_data"
    }
   ],
   "source": [
    "# bins = np.linspace(0, 20, 20)\n",
    "sns.set(style=\"whitegrid\", palette=\"muted\", color_codes=True)\n",
    "\n",
    "fig, ax = plt.subplots(figsize=(7, 7), sharex=True)\n",
    "ax.hist(question_freq, alpha=0.6, bins=20)\n",
    "ax.set_xlabel('Frequência')\n",
    "ax.set_ylabel('Número de perguntas')\n",
    "plt.yscale('log', nonposy='clip')\n",
    "plt.show()"
   ]
  },
  {
   "cell_type": "code",
   "execution_count": 14,
   "metadata": {},
   "outputs": [
    {
     "name": "stdout",
     "output_type": "stream",
     "text": [
      "Perguntas duplicadas is_duplicate\n",
      "0    255027\n",
      "1    149263\n",
      "Name: id, dtype: int64\n"
     ]
    }
   ],
   "source": [
    "# Percentual de pares duplicadas na base de dados\n",
    "duplicate_group = df_train.groupby('is_duplicate')['id'].count()\n",
    "print('Perguntas duplicadas {}'.format(duplicate_group))"
   ]
  },
  {
   "cell_type": "code",
   "execution_count": 15,
   "metadata": {},
   "outputs": [
    {
     "name": "stdout",
     "output_type": "stream",
     "text": [
      "Percentual de pares duplicados: 0.3692%\n"
     ]
    }
   ],
   "source": [
    "print('Percentual de pares duplicados: {:.4f}%'.format(duplicate_group[1] / (duplicate_group.sum())))"
   ]
  },
  {
   "cell_type": "code",
   "execution_count": 16,
   "metadata": {},
   "outputs": [
    {
     "data": {
      "image/png": "[encoded data removed]",
      "text/plain": [
       "<Figure size 504x504 with 1 Axes>"
      ]
     },
     "metadata": {},
     "output_type": "display_data"
    }
   ],
   "source": [
    "sns.set(style=\"whitegrid\", palette=\"muted\", color_codes=True)\n",
    "\n",
    "fig, ax = plt.subplots(figsize=(7, 7), sharex=True)\n",
    "# plt.style.context('seaborn')\n",
    "ax.bar('0', duplicate_group[0], alpha=0.6, width=0.4)\n",
    "ax.bar('1', duplicate_group[1], alpha=0.6, width=0.4)\n",
    "\n",
    "# sns.barplot(['1'], duplicate_group[1])\n",
    "# sns.barplot(['0'], duplicate_group[0])\n",
    "\n",
    "ax.set_xlabel('Duplicado')\n",
    "ax.set_ylabel('Número de pares de perguntas')\n",
    "plt.tight_layout()"
   ]
  },
  {
   "cell_type": "code",
   "execution_count": 17,
   "metadata": {},
   "outputs": [
    {
     "data": {
      "text/plain": [
       "(808580,)"
      ]
     },
     "execution_count": 17,
     "metadata": {},
     "output_type": "execute_result"
    }
   ],
   "source": [
    "questions = pd.concat([df_train['question1'], df_train['question2']], axis=0)\n",
    "questions.shape"
   ]
  },
  {
   "cell_type": "code",
   "execution_count": 18,
   "metadata": {},
   "outputs": [],
   "source": [
    "df_train.drop(['id', 'qid1', 'qid2'], inplace=True, axis=1)"
   ]
  },
  {
   "cell_type": "code",
   "execution_count": 19,
   "metadata": {},
   "outputs": [
    {
     "name": "stdout",
     "output_type": "stream",
     "text": [
      "What is the step by step guide to invest in share market in india?\n",
      "What is the step by step guide to invest in share market?\n",
      "\n",
      "What is the story of Kohinoor (Koh-i-Noor) Diamond?\n",
      "What would happen if the Indian government stole the Kohinoor (Koh-i-Noor) diamond back?\n",
      "\n",
      "How can I increase the speed of my internet connection while using a VPN?\n",
      "How can Internet speed be increased by hacking through DNS?\n",
      "\n",
      "Why am I mentally very lonely? How can I solve it?\n",
      "Find the remainder when [math]23^{24}[/math] is divided by 24,23?\n",
      "\n",
      "Which one dissolve in water quikly sugar, salt, methane and carbon di oxide?\n",
      "Which fish would survive in salt water?\n",
      "\n"
     ]
    }
   ],
   "source": [
    "for i in range(5):\n",
    "    print(df_train.iloc[i].question1)\n",
    "    print(df_train.iloc[i].question2)\n",
    "    print()"
   ]
  },
  {
   "cell_type": "code",
   "execution_count": 20,
   "metadata": {},
   "outputs": [],
   "source": [
    "from gensim.parsing.preprocessing import *\n",
    "from nltk.corpus import stopwords\n",
    "\n",
    "stop_words = stopwords.words('english')\n",
    "words = ['what', 'which', 'who', 'whom', 'when', 'where', 'why', 'how']\n",
    "for w in words:\n",
    "    stop_words.remove(w)\n",
    "\n",
    "def question_preprocessing(question):\n",
    "    question = question.lower()\n",
    "    question = strip_punctuation(question)\n",
    "    question = strip_numeric(question)\n",
    "    question = strip_non_alphanum(question)\n",
    "    question = strip_multiple_whitespaces(question)\n",
    "    question = [w for w in question.split() if not w in stop_words]\n",
    "    question = \" \".join(question)\n",
    "    question = strip_short(question, minsize=3)\n",
    "    question = stem_text(question)\n",
    "    \n",
    "    return question"
   ]
  },
  {
   "cell_type": "code",
   "execution_count": 21,
   "metadata": {},
   "outputs": [
    {
     "name": "stdout",
     "output_type": "stream",
     "text": [
      "what step step guid invest share market india\n",
      "what step step guid invest share market\n",
      "\n",
      "what stori kohinoor koh noor diamond\n",
      "what would happen indian govern stole kohinoor koh noor diamond back\n",
      "\n",
      "how increas speed internet connect us vpn\n",
      "how internet speed increas hack dn\n",
      "\n",
      "why mental lone how solv\n",
      "find remaind when math math divid\n",
      "\n",
      "which on dissolv water quikli sugar salt methan carbon oxid\n",
      "which fish would surviv salt water\n",
      "\n"
     ]
    }
   ],
   "source": [
    "for i in range(5):\n",
    "    print(question_preprocessing(df_train.iloc[i].question1))\n",
    "    print(question_preprocessing(df_train.iloc[i].question2))\n",
    "    print()"
   ]
  },
  {
   "cell_type": "code",
   "execution_count": 22,
   "metadata": {},
   "outputs": [
    {
     "data": {
      "text/html": [
       "<div>\n",
       "<style scoped>\n",
       "    .dataframe tbody tr th:only-of-type {\n",
       "        vertical-align: middle;\n",
       "    }\n",
       "\n",
       "    .dataframe tbody tr th {\n",
       "        vertical-align: top;\n",
       "    }\n",
       "\n",
       "    .dataframe thead th {\n",
       "        text-align: right;\n",
       "    }\n",
       "</style>\n",
       "<table border=\"1\" class=\"dataframe\">\n",
       "  <thead>\n",
       "    <tr style=\"text-align: right;\">\n",
       "      <th></th>\n",
       "      <th>question1</th>\n",
       "      <th>question2</th>\n",
       "      <th>is_duplicate</th>\n",
       "    </tr>\n",
       "  </thead>\n",
       "  <tbody>\n",
       "    <tr>\n",
       "      <th>0</th>\n",
       "      <td>what step step guid invest share market india</td>\n",
       "      <td>what step step guid invest share market</td>\n",
       "      <td>0</td>\n",
       "    </tr>\n",
       "    <tr>\n",
       "      <th>1</th>\n",
       "      <td>what stori kohinoor koh noor diamond</td>\n",
       "      <td>what would happen indian govern stole kohinoor...</td>\n",
       "      <td>0</td>\n",
       "    </tr>\n",
       "    <tr>\n",
       "      <th>2</th>\n",
       "      <td>how increas speed internet connect us vpn</td>\n",
       "      <td>how internet speed increas hack dn</td>\n",
       "      <td>0</td>\n",
       "    </tr>\n",
       "    <tr>\n",
       "      <th>3</th>\n",
       "      <td>why mental lone how solv</td>\n",
       "      <td>find remaind when math math divid</td>\n",
       "      <td>0</td>\n",
       "    </tr>\n",
       "    <tr>\n",
       "      <th>4</th>\n",
       "      <td>which on dissolv water quikli sugar salt metha...</td>\n",
       "      <td>which fish would surviv salt water</td>\n",
       "      <td>0</td>\n",
       "    </tr>\n",
       "  </tbody>\n",
       "</table>\n",
       "</div>"
      ],
      "text/plain": [
       "                                           question1  \\\n",
       "0      what step step guid invest share market india   \n",
       "1               what stori kohinoor koh noor diamond   \n",
       "2          how increas speed internet connect us vpn   \n",
       "3                           why mental lone how solv   \n",
       "4  which on dissolv water quikli sugar salt metha...   \n",
       "\n",
       "                                           question2  is_duplicate  \n",
       "0            what step step guid invest share market             0  \n",
       "1  what would happen indian govern stole kohinoor...             0  \n",
       "2                 how internet speed increas hack dn             0  \n",
       "3                  find remaind when math math divid             0  \n",
       "4                 which fish would surviv salt water             0  "
      ]
     },
     "execution_count": 22,
     "metadata": {},
     "output_type": "execute_result"
    }
   ],
   "source": [
    "df_train.question1 = df_train.question1.map(lambda q: question_preprocessing(q))\n",
    "df_train.question2 = df_train.question2.map(lambda q: question_preprocessing(q))\n",
    "df_train.head()"
   ]
  },
  {
   "cell_type": "code",
   "execution_count": 23,
   "metadata": {},
   "outputs": [],
   "source": [
    "# df_is_duplicate = df_train[df_train['is_duplicate'] == 1]\n",
    "# df_is_not_duplicate = df_train[df_train['is_duplicate'] == 0]"
   ]
  },
  {
   "cell_type": "code",
   "execution_count": 24,
   "metadata": {},
   "outputs": [
    {
     "data": {
      "text/plain": [
       "(20000, 3)"
      ]
     },
     "execution_count": 24,
     "metadata": {},
     "output_type": "execute_result"
    }
   ],
   "source": [
    "size = 10000\n",
    "df_train_balanced = pd.concat([df_train[df_train['is_duplicate'] == 1][:size], df_train[df_train['is_duplicate'] == 0][:size]])\n",
    "df_train_balanced.shape"
   ]
  },
  {
   "cell_type": "code",
   "execution_count": 25,
   "metadata": {},
   "outputs": [
    {
     "data": {
      "text/plain": [
       "(34982,)"
      ]
     },
     "execution_count": 25,
     "metadata": {},
     "output_type": "execute_result"
    }
   ],
   "source": [
    "questions = pd.Series(pd.concat([df_train_balanced.question1, df_train_balanced.question2], axis=0).unique())\n",
    "questions.shape"
   ]
  },
  {
   "cell_type": "code",
   "execution_count": 26,
   "metadata": {},
   "outputs": [
    {
     "data": {
      "text/plain": [
       "TfidfVectorizer(analyzer='word', binary=False, decode_error='strict',\n",
       "        dtype=<class 'numpy.int64'>, encoding='utf-8', input='content',\n",
       "        lowercase=True, max_df=1.0, max_features=None, min_df=1,\n",
       "        ngram_range=(1, 1), norm='l2', preprocessor=None, smooth_idf=True,\n",
       "        stop_words=None, strip_accents=None, sublinear_tf=False,\n",
       "        token_pattern='(?u)\\\\b\\\\w\\\\w+\\\\b', tokenizer=None, use_idf=True,\n",
       "        vocabulary=None)"
      ]
     },
     "execution_count": 26,
     "metadata": {},
     "output_type": "execute_result"
    }
   ],
   "source": [
    "from sklearn.feature_extraction.text import TfidfVectorizer\n",
    "\n",
    "vectorizer = TfidfVectorizer()\n",
    "vectorizer.fit(questions)"
   ]
  },
  {
   "cell_type": "code",
   "execution_count": 27,
   "metadata": {},
   "outputs": [],
   "source": [
    "from scipy.spatial import distance\n",
    "\n",
    "df_train_balanced['dist'] = df_train_balanced.apply(lambda x: distance.sqeuclidean(vectorizer.transform([x.question1]).toarray(), vectorizer.transform([x.question2]).toarray()), axis=1)"
   ]
  },
  {
   "cell_type": "code",
   "execution_count": 28,
   "metadata": {},
   "outputs": [],
   "source": [
    "def word_share(row):\n",
    "    w1 = set(row['question1'].split(' '))\n",
    "    w2 = set(row['question2'].split(' '))  \n",
    "    return 2 * len(w1 & w2)/(len(w1) + len(w2))\n",
    "\n",
    "df_train_balanced['word_share'] = df_train_balanced.apply(word_share, axis=1)"
   ]
  },
  {
   "cell_type": "code",
   "execution_count": 29,
   "metadata": {},
   "outputs": [],
   "source": [
    "df_train_balanced['q1_words'] = df_train_balanced.apply(lambda row: len(row['question1'].split(' ')), axis=1)\n",
    "df_train_balanced['q2_words'] = df_train_balanced.apply(lambda row: len(row['question2'].split(' ')), axis=1)"
   ]
  },
  {
   "cell_type": "code",
   "execution_count": 30,
   "metadata": {},
   "outputs": [],
   "source": [
    "df_train_balanced['q1_len'] = df_train_balanced.apply(lambda row: len(row['question1']), axis=1)\n",
    "df_train_balanced['q2_len'] = df_train_balanced.apply(lambda row: len(row['question2']), axis=1)"
   ]
  },
  {
   "cell_type": "code",
   "execution_count": 31,
   "metadata": {},
   "outputs": [],
   "source": [
    "idf = vectorizer.idf_\n",
    "features_weight = dict(zip(vectorizer.get_feature_names(), idf))"
   ]
  },
  {
   "cell_type": "code",
   "execution_count": 32,
   "metadata": {},
   "outputs": [
    {
     "data": {
      "text/plain": [
       "False"
      ]
     },
     "execution_count": 32,
     "metadata": {},
     "output_type": "execute_result"
    }
   ],
   "source": [
    "'i' in features_weight"
   ]
  },
  {
   "cell_type": "code",
   "execution_count": 51,
   "metadata": {},
   "outputs": [],
   "source": [
    "def word_share_weight(row):\n",
    "    w1 = row['question1'].split(' ')\n",
    "    w2 = row['question2'].split(' ')\n",
    "    all_words = w1 + w2\n",
    "    n = []\n",
    "    for w in set(w1) & set(w2):\n",
    "        if(w in features_weight):\n",
    "            n.append(features_weight[w])\n",
    "    \n",
    "    d = []\n",
    "    for w in all_words:\n",
    "        if(w in features_weight):\n",
    "            d.append(features_weight[w])\n",
    "            \n",
    "#     print(n[:10])\n",
    "    n = np.array(n)\n",
    "    n = np.sum(n)\n",
    "    d = np.array(d)\n",
    "    d = np.sum(d)\n",
    "    return 2* n/d\n",
    "\n",
    "df_train_balanced['word_share_weight'] = df_train_balanced.apply(word_share_weight, axis=1)"
   ]
  },
  {
   "cell_type": "code",
   "execution_count": 52,
   "metadata": {},
   "outputs": [
    {
     "data": {
      "text/plain": [
       "(20000, 10)"
      ]
     },
     "execution_count": 52,
     "metadata": {},
     "output_type": "execute_result"
    }
   ],
   "source": [
    "df_train_balanced.shape"
   ]
  },
  {
   "cell_type": "code",
   "execution_count": 53,
   "metadata": {},
   "outputs": [
    {
     "data": {
      "text/plain": [
       "(1115, 10)"
      ]
     },
     "execution_count": 53,
     "metadata": {},
     "output_type": "execute_result"
    }
   ],
   "source": [
    "df_train_balanced[df_train_balanced['word_share_weight']==0].shape"
   ]
  },
  {
   "cell_type": "code",
   "execution_count": 54,
   "metadata": {},
   "outputs": [
    {
     "data": {
      "text/html": [
       "<div>\n",
       "<style scoped>\n",
       "    .dataframe tbody tr th:only-of-type {\n",
       "        vertical-align: middle;\n",
       "    }\n",
       "\n",
       "    .dataframe tbody tr th {\n",
       "        vertical-align: top;\n",
       "    }\n",
       "\n",
       "    .dataframe thead th {\n",
       "        text-align: right;\n",
       "    }\n",
       "</style>\n",
       "<table border=\"1\" class=\"dataframe\">\n",
       "  <thead>\n",
       "    <tr style=\"text-align: right;\">\n",
       "      <th></th>\n",
       "      <th>question1</th>\n",
       "      <th>question2</th>\n",
       "      <th>is_duplicate</th>\n",
       "      <th>dist</th>\n",
       "      <th>word_share</th>\n",
       "      <th>q1_words</th>\n",
       "      <th>q2_words</th>\n",
       "      <th>q1_len</th>\n",
       "      <th>q2_len</th>\n",
       "      <th>word_share_weight</th>\n",
       "    </tr>\n",
       "  </thead>\n",
       "  <tbody>\n",
       "    <tr>\n",
       "      <th>5</th>\n",
       "      <td>astrolog capricorn sun cap moon cap rise what sai</td>\n",
       "      <td>tripl capricorn sun moon ascend capricorn what...</td>\n",
       "      <td>1</td>\n",
       "      <td>1.055979</td>\n",
       "      <td>0.666667</td>\n",
       "      <td>9</td>\n",
       "      <td>8</td>\n",
       "      <td>49</td>\n",
       "      <td>50</td>\n",
       "      <td>0.503926</td>\n",
       "    </tr>\n",
       "    <tr>\n",
       "      <th>7</th>\n",
       "      <td>how good geologist</td>\n",
       "      <td>what great geologist</td>\n",
       "      <td>1</td>\n",
       "      <td>0.500691</td>\n",
       "      <td>0.333333</td>\n",
       "      <td>3</td>\n",
       "      <td>3</td>\n",
       "      <td>18</td>\n",
       "      <td>20</td>\n",
       "      <td>0.574795</td>\n",
       "    </tr>\n",
       "    <tr>\n",
       "      <th>11</th>\n",
       "      <td>how read find youtub comment</td>\n",
       "      <td>how see youtub comment</td>\n",
       "      <td>1</td>\n",
       "      <td>0.631466</td>\n",
       "      <td>0.666667</td>\n",
       "      <td>5</td>\n",
       "      <td>4</td>\n",
       "      <td>28</td>\n",
       "      <td>22</td>\n",
       "      <td>0.656878</td>\n",
       "    </tr>\n",
       "    <tr>\n",
       "      <th>12</th>\n",
       "      <td>what make physic easi learn</td>\n",
       "      <td>how make physic easi learn</td>\n",
       "      <td>1</td>\n",
       "      <td>0.061480</td>\n",
       "      <td>0.800000</td>\n",
       "      <td>5</td>\n",
       "      <td>5</td>\n",
       "      <td>27</td>\n",
       "      <td>26</td>\n",
       "      <td>0.916942</td>\n",
       "    </tr>\n",
       "    <tr>\n",
       "      <th>13</th>\n",
       "      <td>what first sexual experi like</td>\n",
       "      <td>what first sexual experi</td>\n",
       "      <td>1</td>\n",
       "      <td>0.137941</td>\n",
       "      <td>0.888889</td>\n",
       "      <td>5</td>\n",
       "      <td>4</td>\n",
       "      <td>29</td>\n",
       "      <td>24</td>\n",
       "      <td>0.904839</td>\n",
       "    </tr>\n",
       "  </tbody>\n",
       "</table>\n",
       "</div>"
      ],
      "text/plain": [
       "                                            question1  \\\n",
       "5   astrolog capricorn sun cap moon cap rise what sai   \n",
       "7                                  how good geologist   \n",
       "11                       how read find youtub comment   \n",
       "12                        what make physic easi learn   \n",
       "13                      what first sexual experi like   \n",
       "\n",
       "                                            question2  is_duplicate      dist  \\\n",
       "5   tripl capricorn sun moon ascend capricorn what...             1  1.055979   \n",
       "7                                what great geologist             1  0.500691   \n",
       "11                             how see youtub comment             1  0.631466   \n",
       "12                         how make physic easi learn             1  0.061480   \n",
       "13                           what first sexual experi             1  0.137941   \n",
       "\n",
       "    word_share  q1_words  q2_words  q1_len  q2_len  word_share_weight  \n",
       "5     0.666667         9         8      49      50           0.503926  \n",
       "7     0.333333         3         3      18      20           0.574795  \n",
       "11    0.666667         5         4      28      22           0.656878  \n",
       "12    0.800000         5         5      27      26           0.916942  \n",
       "13    0.888889         5         4      29      24           0.904839  "
      ]
     },
     "execution_count": 54,
     "metadata": {},
     "output_type": "execute_result"
    }
   ],
   "source": [
    "df_train_balanced.head()"
   ]
  },
  {
   "cell_type": "code",
   "execution_count": 88,
   "metadata": {},
   "outputs": [],
   "source": [
    "# # Desenhe um mapa de calor com as correlações\n",
    "# sns.set(style=\"whitegrid\", palette=\"muted\", color_codes=True)\n",
    "\n",
    "# fig, ax = plt.subplots(figsize=(7, 7), sharex=True)\n",
    "\n",
    "# df_heatpmap = df_train_balanced.drop(['question1', 'question2'], axis=1)\n",
    "# df_heatpmap[['q1_words', 'q2_words', 'q1_len', 'aq2_len']] = df_heatpmap[['q1_words', 'q2_words', 'q1_len', 'q2_len']].apply(np.log, axis=1)\n",
    "\n",
    "# sns.heatmap(df_heatpmap.corr(), annot=True, linewidths=1, ax=ax, cmap='YlGnBu',  vmin=0, vmax=1, alpha = 0.8)\n",
    "# plt.tight_layout()"
   ]
  },
  {
   "cell_type": "code",
   "execution_count": 89,
   "metadata": {},
   "outputs": [
    {
     "data": {
      "image/png": "[encoded data removed]",
      "text/plain": [
       "<Figure size 504x504 with 2 Axes>"
      ]
     },
     "metadata": {},
     "output_type": "display_data"
    }
   ],
   "source": [
    "# Desenhe um mapa de calor com as correlações\n",
    "sns.set(style=\"whitegrid\", palette=\"muted\", color_codes=True)\n",
    "\n",
    "fig, ax = plt.subplots(figsize=(7, 7), sharex=True)\n",
    "\n",
    "sns.heatmap(df_train_balanced.drop(['question1', 'question2'], axis=1).corr(), annot=True, linewidths=1, ax=ax, cmap='YlGnBu',  vmin=0, vmax=1, alpha = 0.8)\n",
    "plt.tight_layout()"
   ]
  },
  {
   "cell_type": "code",
   "execution_count": 57,
   "metadata": {},
   "outputs": [
    {
     "data": {
      "image/png": "[encoded data removed]",
      "text/plain": [
       "<Figure size 504x504 with 1 Axes>"
      ]
     },
     "metadata": {},
     "output_type": "display_data"
    }
   ],
   "source": [
    "sns.set(style=\"whitegrid\", palette=\"muted\", color_codes=True)\n",
    "\n",
    "fig, ax = plt.subplots(figsize=(7, 7), sharex=True)\n",
    "# sns.despine(left=True)\n",
    "\n",
    "# sns.distplot(df_train_balanced[df_train_balanced['is_duplicate'] == 1]['word_share'].values)\n",
    "# sns.distplot(df_train_balanced[df_train_balanced['is_duplicate'] == 0]['word_share'].values)\n",
    "\n",
    "ax.hist(df_train_balanced[df_train_balanced['is_duplicate'] == 1]['word_share_weight'].values * 100,  bins=20, alpha=0.6, label='1')\n",
    "ax.hist(df_train_balanced[df_train_balanced['is_duplicate'] == 0]['word_share_weight'].values * 100,  bins=20, alpha=0.6, label='0')\n",
    "\n",
    "ax.set_ylabel('Número de pares de perguntas')\n",
    "ax.set_xlabel('Peso Tf–idf das palavras compartilhadas (%)')\n",
    "ax.legend(['Duplicadas', 'Não duplicadas'])\n",
    "\n",
    "# plt.setp(ax, yticks=[])\n",
    "plt.tight_layout()"
   ]
  },
  {
   "cell_type": "code",
   "execution_count": 37,
   "metadata": {},
   "outputs": [],
   "source": [
    "# sns.set(style=\"white\", color_codes=True)\n",
    "\n",
    "# custom_palette = sns.color_palette(\"muted\")\n",
    "# custom_palette[0] , custom_palette[1] = custom_palette[1] , custom_palette[0]\n",
    "\n",
    "# sns.pairplot(df_train_balanced.drop(['question1', 'question2'], axis=1), hue='is_duplicate', hue_order=[0,1], diag_kind='hist', palette=custom_palette)\n",
    "\n",
    "# plt.tight_layout()"
   ]
  },
  {
   "cell_type": "code",
   "execution_count": 38,
   "metadata": {},
   "outputs": [
    {
     "data": {
      "image/png": "[encoded data removed]",
      "text/plain": [
       "<Figure size 504x504 with 1 Axes>"
      ]
     },
     "metadata": {},
     "output_type": "display_data"
    }
   ],
   "source": [
    "sns.set(style=\"whitegrid\", palette=\"muted\", color_codes=True)\n",
    "\n",
    "bins = np.linspace(0, 1, 10)\n",
    "\n",
    "highest_dist = np.max(df_train_balanced['dist'])\n",
    "\n",
    "fig, ax = plt.subplots(figsize=(7, 7), sharex=True)\n",
    "\n",
    "sns.distplot(df_train_balanced[df_train_balanced['is_duplicate'] == 1]['dist'].values/highest_dist, hist=True)\n",
    "sns.distplot(df_train_balanced[df_train_balanced['is_duplicate'] == 0]['dist'].values/highest_dist, hist=True)\n",
    "\n",
    "plt.tight_layout()"
   ]
  },
  {
   "cell_type": "code",
   "execution_count": 39,
   "metadata": {},
   "outputs": [
    {
     "data": {
      "image/png": "[encoded data removed]",
      "text/plain": [
       "<Figure size 504x504 with 1 Axes>"
      ]
     },
     "metadata": {},
     "output_type": "display_data"
    }
   ],
   "source": [
    "sns.set(style=\"whitegrid\", palette=\"muted\", color_codes=True)\n",
    "\n",
    "bins = np.linspace(0, 1, 10)\n",
    "\n",
    "highest_dist = np.max(df_train_balanced['dist'])\n",
    "highest_dist = 1\n",
    "\n",
    "fig, ax = plt.subplots(figsize=(7, 7), sharex=True)\n",
    "\n",
    "ax.hist(df_train_balanced[df_train_balanced['is_duplicate'] == 1]['dist'].values/highest_dist, bins=20, alpha=0.6, label='1')\n",
    "ax.hist(df_train_balanced[df_train_balanced['is_duplicate'] == 0]['dist'].values/highest_dist, bins=20, alpha=0.6, label='0')\n",
    "\n",
    "ax.set_ylabel('Número de pares de perguntas')\n",
    "ax.set_xlabel('Distância euclidiana')\n",
    "ax.legend(['Duplicadas', 'Não duplicadas'])\n",
    "\n",
    "plt.tight_layout()"
   ]
  },
  {
   "cell_type": "code",
   "execution_count": 40,
   "metadata": {},
   "outputs": [
    {
     "data": {
      "image/png": "[encoded data removed]",
      "text/plain": [
       "<Figure size 504x504 with 1 Axes>"
      ]
     },
     "metadata": {},
     "output_type": "display_data"
    }
   ],
   "source": [
    "sns.set(style=\"whitegrid\", palette=\"muted\", color_codes=True)\n",
    "\n",
    "fig, ax = plt.subplots(figsize=(7, 7), sharex=True)\n",
    "# sns.despine(left=True)\n",
    "\n",
    "# sns.distplot(df_train_balanced[df_train_balanced['is_duplicate'] == 1]['word_share'].values)\n",
    "# sns.distplot(df_train_balanced[df_train_balanced['is_duplicate'] == 0]['word_share'].values)\n",
    "\n",
    "ax.hist(df_train_balanced[df_train_balanced['is_duplicate'] == 1]['word_share'].values *100,  bins=20, alpha=0.6, label='1')\n",
    "ax.hist(df_train_balanced[df_train_balanced['is_duplicate'] == 0]['word_share'].values *100,  bins=20, alpha=0.6, label='0')\n",
    "\n",
    "ax.set_ylabel('Número de pares de perguntas')\n",
    "ax.set_xlabel('Palavras compartilhadas (%)')\n",
    "ax.legend(['Duplicadas', 'Não duplicadas'])\n",
    "\n",
    "# plt.setp(ax, yticks=[])\n",
    "plt.tight_layout()"
   ]
  },
  {
   "cell_type": "code",
   "execution_count": 41,
   "metadata": {},
   "outputs": [
    {
     "name": "stdout",
     "output_type": "stream",
     "text": [
      "Train (404290, 26638)\n",
      "Lable (404290,)\n"
     ]
    }
   ],
   "source": [
    "from scipy.sparse import hstack\n",
    "\n",
    "x_vec_q1 = vectorizer.transform(df_train['question1'].values)\n",
    "x_vec_q2 = vectorizer.transform(df_train['question2'].values)\n",
    "\n",
    "X = hstack((x_vec_q1, x_vec_q2))\n",
    "y = df_train['is_duplicate'].values\n",
    "\n",
    "print('Train {}'.format(X.shape))\n",
    "print('Lable {}'.format(y.shape))"
   ]
  },
  {
   "cell_type": "code",
   "execution_count": 42,
   "metadata": {},
   "outputs": [],
   "source": [
    "from sklearn.model_selection import train_test_split\n",
    "from sklearn.model_selection import cross_val_score\n",
    "from sklearn.metrics import precision_score\n",
    "import xgboost as xgb\n",
    "\n",
    "X_train, X_valid, y_train, y_valid = train_test_split(X, y, test_size=0.25, random_state=0)\n",
    "\n",
    "dtrain = xgb.DMatrix(X_train, label=y_train)\n",
    "dvalid = xgb.DMatrix(X_valid, label=y_valid)\n",
    "\n",
    "# specify parameters via map\n",
    "param = {'max_depth':2, 'eta':1, 'silent':0, 'objective':'binary:logistic', 'eval_metric':'logloss'}\n",
    "num_round = 100\n",
    "# watchlist = [(dtrain, 'train'), (dvalid, 'valid')]\n",
    "# bst = xgb.train(param, dtrain, num_round, watchlist, early_stopping_rounds=50, verbose_eval=5)\n",
    "bst = xgb.train(param, dtrain, num_round, verbose_eval=5)"
   ]
  },
  {
   "cell_type": "code",
   "execution_count": 43,
   "metadata": {},
   "outputs": [
    {
     "name": "stdout",
     "output_type": "stream",
     "text": [
      "0.31515835089489774\n",
      "12.76840877381534\n"
     ]
    },
    {
     "name": "stderr",
     "output_type": "stream",
     "text": [
      "C:\\Users\\apimenta\\AppData\\Local\\Continuum\\anaconda3\\lib\\site-packages\\sklearn\\metrics\\classification.py:1135: UndefinedMetricWarning: Precision is ill-defined and being set to 0.0 in labels with no predicted samples.\n",
      "  'precision', 'predicted', average, warn_for)\n"
     ]
    }
   ],
   "source": [
    "from sklearn.metrics import f1_score, classification_report, accuracy_score\n",
    "from sklearn.metrics import log_loss\n",
    "\n",
    "# make prediction\n",
    "preds = bst.predict(dvalid)\n",
    "best_preds = np.asarray([np.argmax(line) for line in preds])\n",
    "\n",
    "print(precision_score(y_valid, best_preds, average='macro'))\n",
    "print(log_loss(y_valid, best_preds))"
   ]
  },
  {
   "cell_type": "code",
   "execution_count": 44,
   "metadata": {},
   "outputs": [],
   "source": [
    "# submission\n",
    "df_test = pd.read_csv(\"input/test.csv\")"
   ]
  },
  {
   "cell_type": "code",
   "execution_count": 45,
   "metadata": {},
   "outputs": [
    {
     "name": "stdout",
     "output_type": "stream",
     "text": [
      "Wall time: 5min 17s\n"
     ]
    }
   ],
   "source": [
    "%%time\n",
    "df_test.fillna('', inplace=True)\n",
    "\n",
    "df_test['question1'] = df_test['question1'].map(lambda q: question_preprocessing(q))\n",
    "df_test['question2'] = df_test['question2'].map(lambda q: question_preprocessing(q))"
   ]
  },
  {
   "cell_type": "code",
   "execution_count": 46,
   "metadata": {},
   "outputs": [
    {
     "name": "stdout",
     "output_type": "stream",
     "text": [
      "Test (404290, 26638)\n",
      "Wall time: 28.6 s\n"
     ]
    }
   ],
   "source": [
    "%%time\n",
    "x_test_vec_q1 = vectorizer.transform(df_test['question1'].values)\n",
    "x_test_vec_q2 = vectorizer.transform(df_test['question2'].values)\n",
    "\n",
    "X_test = hstack((x_test_vec_q1, x_test_vec_q2))\n",
    "\n",
    "print('Test {}'.format(X.shape))"
   ]
  },
  {
   "cell_type": "code",
   "execution_count": 47,
   "metadata": {},
   "outputs": [],
   "source": [
    "d_test = xgb.DMatrix(X_test)\n",
    "p_test = bst.predict(d_test)\n",
    "\n",
    "sub = pd.DataFrame()\n",
    "sub['test_id'] = df_test['test_id']\n",
    "sub['is_duplicate'] = p_test\n",
    "sub.to_csv('submission2.csv', index=False)"
   ]
  },
  {
   "cell_type": "code",
   "execution_count": 48,
   "metadata": {},
   "outputs": [
    {
     "ename": "ImportError",
     "evalue": "You must install graphviz to plot tree",
     "output_type": "error",
     "traceback": [
      "\u001b[1;31m---------------------------------------------------------------------------\u001b[0m",
      "\u001b[1;31mModuleNotFoundError\u001b[0m                       Traceback (most recent call last)",
      "\u001b[1;32m~\\AppData\\Local\\Continuum\\anaconda3\\lib\\site-packages\\xgboost\\plotting.py\u001b[0m in \u001b[0;36mto_graphviz\u001b[1;34m(booster, fmap, num_trees, rankdir, yes_color, no_color, condition_node_params, leaf_node_params, **kwargs)\u001b[0m\n\u001b[0;32m    211\u001b[0m     \u001b[1;32mtry\u001b[0m\u001b[1;33m:\u001b[0m\u001b[1;33m\u001b[0m\u001b[0m\n\u001b[1;32m--> 212\u001b[1;33m         \u001b[1;32mfrom\u001b[0m \u001b[0mgraphviz\u001b[0m \u001b[1;32mimport\u001b[0m \u001b[0mDigraph\u001b[0m\u001b[1;33m\u001b[0m\u001b[0m\n\u001b[0m\u001b[0;32m    213\u001b[0m     \u001b[1;32mexcept\u001b[0m \u001b[0mImportError\u001b[0m\u001b[1;33m:\u001b[0m\u001b[1;33m\u001b[0m\u001b[0m\n",
      "\u001b[1;31mModuleNotFoundError\u001b[0m: No module named 'graphviz'",
      "\nDuring handling of the above exception, another exception occurred:\n",
      "\u001b[1;31mImportError\u001b[0m                               Traceback (most recent call last)",
      "\u001b[1;32m<ipython-input-48-704a23a53de0>\u001b[0m in \u001b[0;36m<module>\u001b[1;34m()\u001b[0m\n\u001b[1;32m----> 1\u001b[1;33m \u001b[0mxgb\u001b[0m\u001b[1;33m.\u001b[0m\u001b[0mplot_tree\u001b[0m\u001b[1;33m(\u001b[0m\u001b[0mbst\u001b[0m\u001b[1;33m,\u001b[0m \u001b[0mnum_trees\u001b[0m\u001b[1;33m=\u001b[0m\u001b[1;36m0\u001b[0m\u001b[1;33m)\u001b[0m\u001b[1;33m\u001b[0m\u001b[0m\n\u001b[0m\u001b[0;32m      2\u001b[0m \u001b[0mplt\u001b[0m\u001b[1;33m.\u001b[0m\u001b[0mrcParams\u001b[0m\u001b[1;33m[\u001b[0m\u001b[1;34m'figure.figsize'\u001b[0m\u001b[1;33m]\u001b[0m \u001b[1;33m=\u001b[0m \u001b[1;33m[\u001b[0m\u001b[1;36m50\u001b[0m\u001b[1;33m,\u001b[0m \u001b[1;36m10\u001b[0m\u001b[1;33m]\u001b[0m\u001b[1;33m\u001b[0m\u001b[0m\n\u001b[0;32m      3\u001b[0m \u001b[1;31m# fig = plt.gcf()\u001b[0m\u001b[1;33m\u001b[0m\u001b[1;33m\u001b[0m\u001b[0m\n\u001b[0;32m      4\u001b[0m \u001b[1;31m# fig.set_size_inches(50, 50)\u001b[0m\u001b[1;33m\u001b[0m\u001b[1;33m\u001b[0m\u001b[0m\n\u001b[0;32m      5\u001b[0m \u001b[0mplt\u001b[0m\u001b[1;33m.\u001b[0m\u001b[0mshow\u001b[0m\u001b[1;33m(\u001b[0m\u001b[1;33m)\u001b[0m\u001b[1;33m\u001b[0m\u001b[0m\n",
      "\u001b[1;32m~\\AppData\\Local\\Continuum\\anaconda3\\lib\\site-packages\\xgboost\\plotting.py\u001b[0m in \u001b[0;36mplot_tree\u001b[1;34m(booster, fmap, num_trees, rankdir, ax, **kwargs)\u001b[0m\n\u001b[0;32m    276\u001b[0m \u001b[1;33m\u001b[0m\u001b[0m\n\u001b[0;32m    277\u001b[0m     g = to_graphviz(booster, fmap=fmap, num_trees=num_trees,\n\u001b[1;32m--> 278\u001b[1;33m                     rankdir=rankdir, **kwargs)\n\u001b[0m\u001b[0;32m    279\u001b[0m \u001b[1;33m\u001b[0m\u001b[0m\n\u001b[0;32m    280\u001b[0m     \u001b[0ms\u001b[0m \u001b[1;33m=\u001b[0m \u001b[0mBytesIO\u001b[0m\u001b[1;33m(\u001b[0m\u001b[1;33m)\u001b[0m\u001b[1;33m\u001b[0m\u001b[0m\n",
      "\u001b[1;32m~\\AppData\\Local\\Continuum\\anaconda3\\lib\\site-packages\\xgboost\\plotting.py\u001b[0m in \u001b[0;36mto_graphviz\u001b[1;34m(booster, fmap, num_trees, rankdir, yes_color, no_color, condition_node_params, leaf_node_params, **kwargs)\u001b[0m\n\u001b[0;32m    212\u001b[0m         \u001b[1;32mfrom\u001b[0m \u001b[0mgraphviz\u001b[0m \u001b[1;32mimport\u001b[0m \u001b[0mDigraph\u001b[0m\u001b[1;33m\u001b[0m\u001b[0m\n\u001b[0;32m    213\u001b[0m     \u001b[1;32mexcept\u001b[0m \u001b[0mImportError\u001b[0m\u001b[1;33m:\u001b[0m\u001b[1;33m\u001b[0m\u001b[0m\n\u001b[1;32m--> 214\u001b[1;33m         \u001b[1;32mraise\u001b[0m \u001b[0mImportError\u001b[0m\u001b[1;33m(\u001b[0m\u001b[1;34m'You must install graphviz to plot tree'\u001b[0m\u001b[1;33m)\u001b[0m\u001b[1;33m\u001b[0m\u001b[0m\n\u001b[0m\u001b[0;32m    215\u001b[0m \u001b[1;33m\u001b[0m\u001b[0m\n\u001b[0;32m    216\u001b[0m     \u001b[1;32mif\u001b[0m \u001b[1;32mnot\u001b[0m \u001b[0misinstance\u001b[0m\u001b[1;33m(\u001b[0m\u001b[0mbooster\u001b[0m\u001b[1;33m,\u001b[0m \u001b[1;33m(\u001b[0m\u001b[0mBooster\u001b[0m\u001b[1;33m,\u001b[0m \u001b[0mXGBModel\u001b[0m\u001b[1;33m)\u001b[0m\u001b[1;33m)\u001b[0m\u001b[1;33m:\u001b[0m\u001b[1;33m\u001b[0m\u001b[0m\n",
      "\u001b[1;31mImportError\u001b[0m: You must install graphviz to plot tree"
     ]
    },
    {
     "data": {
      "image/png": "[encoded data removed]",
      "text/plain": [
       "<Figure size 432x288 with 1 Axes>"
      ]
     },
     "metadata": {},
     "output_type": "display_data"
    }
   ],
   "source": [
    "xgb.plot_tree(bst, num_trees=0)\n",
    "plt.rcParams['figure.figsize'] = [50, 10]\n",
    "# fig = plt.gcf()\n",
    "# fig.set_size_inches(50, 50)\n",
    "plt.show()\n",
    "# graph_to_save = xgb.to_graphviz(bst)\n",
    "# graph_to_save.format = 'png'            \n",
    "# graph_to_save.render('tree_saved')"
   ]
  },
  {
   "cell_type": "code",
   "execution_count": null,
   "metadata": {},
   "outputs": [],
   "source": []
  }
 ],
 "metadata": {
  "kernelspec": {
   "display_name": "Python 3",
   "language": "python",
   "name": "python3"
  }
 },
 "nbformat": 4,
 "nbformat_minor": 2
}
