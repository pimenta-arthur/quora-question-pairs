{
 "cells": [
  {
   "cell_type": "markdown",
   "metadata": {},
   "source": [
    "# Nanodegree Engenheiro de Machine Learning\n",
    "## Projeto final\n",
    "Arthur Pimenta \n",
    "28 de maio de 2019"
   ]
  },
  {
   "cell_type": "markdown",
   "metadata": {},
   "source": [
    "# Exploração de Dados e Vizualização"
   ]
  },
  {
   "cell_type": "code",
   "execution_count": 191,
   "metadata": {},
   "outputs": [],
   "source": [
    "import pandas as pd\n",
    "import numpy as np\n",
    "import matplotlib.pyplot as plt\n",
    "from collections import Counter\n",
    "import seaborn as sns"
   ]
  },
  {
   "cell_type": "code",
   "execution_count": 192,
   "metadata": {},
   "outputs": [
    {
     "name": "stdout",
     "output_type": "stream",
     "text": [
      "(404290, 6)\n"
     ]
    }
   ],
   "source": [
    "# Dados de treino\n",
    "df_train = pd.read_csv(\"input/train.csv\")\n",
    "print(df_train.shape)"
   ]
  },
  {
   "cell_type": "code",
   "execution_count": 193,
   "metadata": {},
   "outputs": [
    {
     "data": {
      "text/html": [
       "<div>\n",
       "<style scoped>\n",
       "    .dataframe tbody tr th:only-of-type {\n",
       "        vertical-align: middle;\n",
       "    }\n",
       "\n",
       "    .dataframe tbody tr th {\n",
       "        vertical-align: top;\n",
       "    }\n",
       "\n",
       "    .dataframe thead th {\n",
       "        text-align: right;\n",
       "    }\n",
       "</style>\n",
       "<table border=\"1\" class=\"dataframe\">\n",
       "  <thead>\n",
       "    <tr style=\"text-align: right;\">\n",
       "      <th></th>\n",
       "      <th>id</th>\n",
       "      <th>qid1</th>\n",
       "      <th>qid2</th>\n",
       "      <th>question1</th>\n",
       "      <th>question2</th>\n",
       "      <th>is_duplicate</th>\n",
       "    </tr>\n",
       "  </thead>\n",
       "  <tbody>\n",
       "    <tr>\n",
       "      <th>0</th>\n",
       "      <td>0</td>\n",
       "      <td>1</td>\n",
       "      <td>2</td>\n",
       "      <td>What is the step by step guide to invest in sh...</td>\n",
       "      <td>What is the step by step guide to invest in sh...</td>\n",
       "      <td>0</td>\n",
       "    </tr>\n",
       "    <tr>\n",
       "      <th>1</th>\n",
       "      <td>1</td>\n",
       "      <td>3</td>\n",
       "      <td>4</td>\n",
       "      <td>What is the story of Kohinoor (Koh-i-Noor) Dia...</td>\n",
       "      <td>What would happen if the Indian government sto...</td>\n",
       "      <td>0</td>\n",
       "    </tr>\n",
       "    <tr>\n",
       "      <th>2</th>\n",
       "      <td>2</td>\n",
       "      <td>5</td>\n",
       "      <td>6</td>\n",
       "      <td>How can I increase the speed of my internet co...</td>\n",
       "      <td>How can Internet speed be increased by hacking...</td>\n",
       "      <td>0</td>\n",
       "    </tr>\n",
       "    <tr>\n",
       "      <th>3</th>\n",
       "      <td>3</td>\n",
       "      <td>7</td>\n",
       "      <td>8</td>\n",
       "      <td>Why am I mentally very lonely? How can I solve...</td>\n",
       "      <td>Find the remainder when [math]23^{24}[/math] i...</td>\n",
       "      <td>0</td>\n",
       "    </tr>\n",
       "    <tr>\n",
       "      <th>4</th>\n",
       "      <td>4</td>\n",
       "      <td>9</td>\n",
       "      <td>10</td>\n",
       "      <td>Which one dissolve in water quikly sugar, salt...</td>\n",
       "      <td>Which fish would survive in salt water?</td>\n",
       "      <td>0</td>\n",
       "    </tr>\n",
       "  </tbody>\n",
       "</table>\n",
       "</div>"
      ],
      "text/plain": [
       "   id  qid1  qid2                                          question1  \\\n",
       "0   0     1     2  What is the step by step guide to invest in sh...   \n",
       "1   1     3     4  What is the story of Kohinoor (Koh-i-Noor) Dia...   \n",
       "2   2     5     6  How can I increase the speed of my internet co...   \n",
       "3   3     7     8  Why am I mentally very lonely? How can I solve...   \n",
       "4   4     9    10  Which one dissolve in water quikly sugar, salt...   \n",
       "\n",
       "                                           question2  is_duplicate  \n",
       "0  What is the step by step guide to invest in sh...             0  \n",
       "1  What would happen if the Indian government sto...             0  \n",
       "2  How can Internet speed be increased by hacking...             0  \n",
       "3  Find the remainder when [math]23^{24}[/math] i...             0  \n",
       "4            Which fish would survive in salt water?             0  "
      ]
     },
     "execution_count": 193,
     "metadata": {},
     "output_type": "execute_result"
    }
   ],
   "source": [
    "df_train.head()"
   ]
  },
  {
   "cell_type": "code",
   "execution_count": 195,
   "metadata": {},
   "outputs": [
    {
     "name": "stdout",
     "output_type": "stream",
     "text": [
      "+----+------+------+------------------------------------------+------------------------------------------+--------------+\n",
      "| id | qid1 | qid2 |                question1                 |                question2                 | is_duplicate |\n",
      "+----+------+------+------------------------------------------+------------------------------------------+--------------+\n",
      "| 0  |  1   |  2   | What is the step by step guide to invest | What is the step by step guide to invest |      0       |\n",
      "|    |      |      |        in share market in india?         |             in share market?             |              |\n",
      "| 1  |  3   |  4   |  What is the story of Kohinoor (Koh-i-   |     What would happen if the Indian      |      0       |\n",
      "|    |      |      |              Noor) Diamond?              |  government stole the Kohinoor (Koh-i-   |              |\n",
      "|    |      |      |                                          |           Noor) diamond back?            |              |\n",
      "| 2  |  5   |  6   |    How can I increase the speed of my    |  How can Internet speed be increased by  |      0       |\n",
      "|    |      |      |  internet connection while using a VPN?  |           hacking through DNS?           |              |\n",
      "| 3  |  7   |  8   | Why am I mentally very lonely? How can I |         Find the remainder when          |      0       |\n",
      "|    |      |      |                solve it?                 |    [math]23^{24}[/math] is divided by    |              |\n",
      "|    |      |      |                                          |                  24,23?                  |              |\n",
      "| 4  |  9   |  10  |    Which one dissolve in water quikly    | Which fish would survive in salt water?  |      0       |\n",
      "|    |      |      |    sugar, salt, methane and carbon di    |                                          |              |\n",
      "|    |      |      |                  oxide?                  |                                          |              |\n",
      "+----+------+------+------------------------------------------+------------------------------------------+--------------+\n"
     ]
    }
   ],
   "source": [
    "from prettytable import PrettyTable\n",
    "from textwrap import fill\n",
    "\n",
    "x = PrettyTable()\n",
    "x.field_names = df_train.columns\n",
    "for i in range(5):\n",
    "    x.add_row([df_train.iloc[i][0], df_train.iloc[i][1], df_train.iloc[i][2], fill(df_train.iloc[i][3], width=40), fill(df_train.iloc[i][4], width=40), df_train.iloc[i][5]])\n",
    "print(x)"
   ]
  },
  {
   "cell_type": "code",
   "execution_count": 196,
   "metadata": {},
   "outputs": [],
   "source": [
    "# from prettytable import PrettyTable\n",
    "# from textwrap import fill\n",
    "\n",
    "# x = PrettyTable()\n",
    "# x.field_names = df_train.columns\n",
    "# for i in range(5):\n",
    "#     x.add_row([df_train.iloc[i][0], df_train.iloc[i][1], df_train.iloc[i][2], fill(question_preprocessing(df_train.iloc[i][3]), width=40), fill(question_preprocessing(df_train.iloc[i][4]), width=40), df_train.iloc[i][5]])\n",
    "# print(x)"
   ]
  },
  {
   "cell_type": "code",
   "execution_count": 197,
   "metadata": {},
   "outputs": [
    {
     "name": "stdout",
     "output_type": "stream",
     "text": [
      "Coluna: question1, Valores faltantes: 1\n",
      "Coluna: question2, Valores faltantes: 2\n"
     ]
    }
   ],
   "source": [
    "# Dados faltantes\n",
    "null_columns = df_train.columns[df_train.isnull().any()]\n",
    "values = df_train[null_columns].isnull().sum()\n",
    "\n",
    "for c, v in zip(null_columns, values):\n",
    "    print('Coluna: {}, Valores faltantes: {}'.format(c, v))"
   ]
  },
  {
   "cell_type": "code",
   "execution_count": 198,
   "metadata": {},
   "outputs": [],
   "source": [
    "df_train.fillna('', inplace=True)"
   ]
  },
  {
   "cell_type": "code",
   "execution_count": 199,
   "metadata": {},
   "outputs": [],
   "source": [
    "c = Counter()\n",
    "c.update(df_train['qid1'].values)\n",
    "c.update(df_train['qid2'].values)\n"
   ]
  },
  {
   "cell_type": "code",
   "execution_count": 200,
   "metadata": {},
   "outputs": [
    {
     "name": "stdout",
     "output_type": "stream",
     "text": [
      "Número de perguntas que aparecem mais de uma vez: 111780\n",
      "Número de perguntas: 537933\n"
     ]
    }
   ],
   "source": [
    "c = Counter()\n",
    "c.update(df_train['qid1'].values)\n",
    "c.update(df_train['qid2'].values)\n",
    "\n",
    "print('Número de perguntas que aparecem mais de uma vez: {}'.format(np.sum(np.array(list(c.values())) > 1)))\n",
    "\n",
    "print('Número de perguntas: {}'.format(len(c)))"
   ]
  },
  {
   "cell_type": "code",
   "execution_count": 201,
   "metadata": {},
   "outputs": [
    {
     "data": {
      "text/plain": [
       "0.20779539459375052"
      ]
     },
     "execution_count": 201,
     "metadata": {},
     "output_type": "execute_result"
    }
   ],
   "source": [
    "111780/537933"
   ]
  },
  {
   "cell_type": "code",
   "execution_count": 202,
   "metadata": {},
   "outputs": [],
   "source": [
    "question_freq = list(c.values())\n",
    "question_freq = np.array(question_freq)"
   ]
  },
  {
   "cell_type": "code",
   "execution_count": 203,
   "metadata": {},
   "outputs": [
    {
     "data": {
      "text/plain": [
       "(808580,)"
      ]
     },
     "execution_count": 203,
     "metadata": {},
     "output_type": "execute_result"
    }
   ],
   "source": [
    "qids = np.concatenate([df_train['qid1'].values, df_train['qid2'].values], axis=0)\n",
    "qids.shape"
   ]
  },
  {
   "cell_type": "code",
   "execution_count": 204,
   "metadata": {},
   "outputs": [
    {
     "data": {
      "image/png": "[encoded data removed]",
      "text/plain": [
       "<Figure size 504x504 with 1 Axes>"
      ]
     },
     "metadata": {},
     "output_type": "display_data"
    }
   ],
   "source": [
    "# bins = np.linspace(0, 20, 20)\n",
    "sns.set(style=\"whitegrid\", palette=\"muted\", color_codes=True)\n",
    "\n",
    "fig, ax = plt.subplots(figsize=(7, 7), sharex=True)\n",
    "ax.hist(question_freq, alpha=0.6, bins=20)\n",
    "ax.set_xlabel('Frequência')\n",
    "ax.set_ylabel('Número de perguntas')\n",
    "plt.yscale('log', nonposy='clip')\n",
    "plt.show()"
   ]
  },
  {
   "cell_type": "code",
   "execution_count": 205,
   "metadata": {},
   "outputs": [
    {
     "name": "stdout",
     "output_type": "stream",
     "text": [
      "Perguntas duplicadas is_duplicate\n",
      "0    255027\n",
      "1    149263\n",
      "Name: id, dtype: int64\n"
     ]
    }
   ],
   "source": [
    "# Percentual de pares duplicadas na base de dados\n",
    "duplicate_group = df_train.groupby('is_duplicate')['id'].count()\n",
    "print('Perguntas duplicadas {}'.format(duplicate_group))"
   ]
  },
  {
   "cell_type": "code",
   "execution_count": 206,
   "metadata": {},
   "outputs": [
    {
     "name": "stdout",
     "output_type": "stream",
     "text": [
      "Percentual de pares duplicados: 0.3692%\n"
     ]
    }
   ],
   "source": [
    "print('Percentual de pares duplicados: {:.4f}%'.format(duplicate_group[1] / (duplicate_group.sum())))"
   ]
  },
  {
   "cell_type": "code",
   "execution_count": 217,
   "metadata": {},
   "outputs": [
    {
     "data": {
      "image/png": "[encoded data removed]",
      "text/plain": [
       "<Figure size 504x504 with 1 Axes>"
      ]
     },
     "metadata": {},
     "output_type": "display_data"
    }
   ],
   "source": [
    "sns.set(style=\"whitegrid\", palette=\"muted\", color_codes=True)\n",
    "\n",
    "fig, ax = plt.subplots(figsize=(7, 7), sharex=True)\n",
    "# plt.style.context('seaborn')\n",
    "ax.bar('1', duplicate_group[1], alpha=0.6, width=0.4, label='1')\n",
    "ax.bar('0', duplicate_group[0], alpha=0.6, width=0.4, label='0')\n",
    "\n",
    "# sns.barplot(['1'], duplicate_group[1])\n",
    "# sns.barplot(['0'], duplicate_group[0])\n",
    "\n",
    "ax.set_xlabel('Duplicado')\n",
    "ax.set_ylabel('Número de pares de perguntas')\n",
    "ax.legend(['Duplicado', 'Não duplicado'])\n",
    "plt.tight_layout()"
   ]
  },
  {
   "cell_type": "code",
   "execution_count": 218,
   "metadata": {},
   "outputs": [
    {
     "data": {
      "text/plain": [
       "(808580,)"
      ]
     },
     "execution_count": 218,
     "metadata": {},
     "output_type": "execute_result"
    }
   ],
   "source": [
    "questions = pd.concat([df_train['question1'], df_train['question2']], axis=0)\n",
    "questions.shape"
   ]
  },
  {
   "cell_type": "code",
   "execution_count": 219,
   "metadata": {},
   "outputs": [],
   "source": [
    "df_train.drop(['id', 'qid1', 'qid2'], inplace=True, axis=1)"
   ]
  },
  {
   "cell_type": "code",
   "execution_count": 220,
   "metadata": {},
   "outputs": [
    {
     "name": "stdout",
     "output_type": "stream",
     "text": [
      "What is the step by step guide to invest in share market in india?\n",
      "What is the step by step guide to invest in share market?\n",
      "\n",
      "What is the story of Kohinoor (Koh-i-Noor) Diamond?\n",
      "What would happen if the Indian government stole the Kohinoor (Koh-i-Noor) diamond back?\n",
      "\n",
      "How can I increase the speed of my internet connection while using a VPN?\n",
      "How can Internet speed be increased by hacking through DNS?\n",
      "\n",
      "Why am I mentally very lonely? How can I solve it?\n",
      "Find the remainder when [math]23^{24}[/math] is divided by 24,23?\n",
      "\n",
      "Which one dissolve in water quikly sugar, salt, methane and carbon di oxide?\n",
      "Which fish would survive in salt water?\n",
      "\n"
     ]
    }
   ],
   "source": [
    "for i in range(5):\n",
    "    print(df_train.iloc[i].question1)\n",
    "    print(df_train.iloc[i].question2)\n",
    "    print()"
   ]
  },
  {
   "cell_type": "code",
   "execution_count": 221,
   "metadata": {},
   "outputs": [],
   "source": [
    "from gensim.parsing.preprocessing import *\n",
    "from nltk.corpus import stopwords\n",
    "\n",
    "stop_words = stopwords.words('english')\n",
    "words = ['what', 'which', 'who', 'whom', 'when', 'where', 'why', 'how']\n",
    "for w in words:\n",
    "    stop_words.remove(w)\n",
    "\n",
    "def question_preprocessing(question):\n",
    "    question = question.lower()\n",
    "    question = strip_punctuation(question)\n",
    "    question = strip_numeric(question)\n",
    "    question = strip_non_alphanum(question)\n",
    "    question = strip_multiple_whitespaces(question)\n",
    "    question = [w for w in question.split() if not w in stop_words]\n",
    "    question = \" \".join(question)\n",
    "    question = strip_short(question, minsize=3)\n",
    "    question = stem_text(question)\n",
    "    \n",
    "    return question"
   ]
  },
  {
   "cell_type": "code",
   "execution_count": 222,
   "metadata": {},
   "outputs": [
    {
     "name": "stdout",
     "output_type": "stream",
     "text": [
      "what step step guid invest share market india\n",
      "what step step guid invest share market\n",
      "\n",
      "what stori kohinoor koh noor diamond\n",
      "what would happen indian govern stole kohinoor koh noor diamond back\n",
      "\n",
      "how increas speed internet connect us vpn\n",
      "how internet speed increas hack dn\n",
      "\n",
      "why mental lone how solv\n",
      "find remaind when math math divid\n",
      "\n",
      "which on dissolv water quikli sugar salt methan carbon oxid\n",
      "which fish would surviv salt water\n",
      "\n"
     ]
    }
   ],
   "source": [
    "for i in range(5):\n",
    "    print(question_preprocessing(df_train.iloc[i].question1))\n",
    "    print(question_preprocessing(df_train.iloc[i].question2))\n",
    "    print()"
   ]
  },
  {
   "cell_type": "code",
   "execution_count": 223,
   "metadata": {},
   "outputs": [
    {
     "data": {
      "text/html": [
       "<div>\n",
       "<style scoped>\n",
       "    .dataframe tbody tr th:only-of-type {\n",
       "        vertical-align: middle;\n",
       "    }\n",
       "\n",
       "    .dataframe tbody tr th {\n",
       "        vertical-align: top;\n",
       "    }\n",
       "\n",
       "    .dataframe thead th {\n",
       "        text-align: right;\n",
       "    }\n",
       "</style>\n",
       "<table border=\"1\" class=\"dataframe\">\n",
       "  <thead>\n",
       "    <tr style=\"text-align: right;\">\n",
       "      <th></th>\n",
       "      <th>question1</th>\n",
       "      <th>question2</th>\n",
       "      <th>is_duplicate</th>\n",
       "    </tr>\n",
       "  </thead>\n",
       "  <tbody>\n",
       "    <tr>\n",
       "      <th>0</th>\n",
       "      <td>what step step guid invest share market india</td>\n",
       "      <td>what step step guid invest share market</td>\n",
       "      <td>0</td>\n",
       "    </tr>\n",
       "    <tr>\n",
       "      <th>1</th>\n",
       "      <td>what stori kohinoor koh noor diamond</td>\n",
       "      <td>what would happen indian govern stole kohinoor...</td>\n",
       "      <td>0</td>\n",
       "    </tr>\n",
       "    <tr>\n",
       "      <th>2</th>\n",
       "      <td>how increas speed internet connect us vpn</td>\n",
       "      <td>how internet speed increas hack dn</td>\n",
       "      <td>0</td>\n",
       "    </tr>\n",
       "    <tr>\n",
       "      <th>3</th>\n",
       "      <td>why mental lone how solv</td>\n",
       "      <td>find remaind when math math divid</td>\n",
       "      <td>0</td>\n",
       "    </tr>\n",
       "    <tr>\n",
       "      <th>4</th>\n",
       "      <td>which on dissolv water quikli sugar salt metha...</td>\n",
       "      <td>which fish would surviv salt water</td>\n",
       "      <td>0</td>\n",
       "    </tr>\n",
       "  </tbody>\n",
       "</table>\n",
       "</div>"
      ],
      "text/plain": [
       "                                           question1  \\\n",
       "0      what step step guid invest share market india   \n",
       "1               what stori kohinoor koh noor diamond   \n",
       "2          how increas speed internet connect us vpn   \n",
       "3                           why mental lone how solv   \n",
       "4  which on dissolv water quikli sugar salt metha...   \n",
       "\n",
       "                                           question2  is_duplicate  \n",
       "0            what step step guid invest share market             0  \n",
       "1  what would happen indian govern stole kohinoor...             0  \n",
       "2                 how internet speed increas hack dn             0  \n",
       "3                  find remaind when math math divid             0  \n",
       "4                 which fish would surviv salt water             0  "
      ]
     },
     "execution_count": 223,
     "metadata": {},
     "output_type": "execute_result"
    }
   ],
   "source": [
    "df_train.question1 = df_train.question1.map(lambda q: question_preprocessing(q))\n",
    "df_train.question2 = df_train.question2.map(lambda q: question_preprocessing(q))\n",
    "df_train.head()"
   ]
  },
  {
   "cell_type": "code",
   "execution_count": 224,
   "metadata": {},
   "outputs": [],
   "source": [
    "# df_is_duplicate = df_train[df_train['is_duplicate'] == 1]\n",
    "# df_is_not_duplicate = df_train[df_train['is_duplicate'] == 0]"
   ]
  },
  {
   "cell_type": "code",
   "execution_count": 225,
   "metadata": {},
   "outputs": [
    {
     "data": {
      "text/plain": [
       "(20000, 3)"
      ]
     },
     "execution_count": 225,
     "metadata": {},
     "output_type": "execute_result"
    }
   ],
   "source": [
    "size = 10000\n",
    "df_train_balanced = pd.concat([df_train[df_train['is_duplicate'] == 1][:size], df_train[df_train['is_duplicate'] == 0][:size]])\n",
    "df_train_balanced.shape"
   ]
  },
  {
   "cell_type": "code",
   "execution_count": 226,
   "metadata": {},
   "outputs": [
    {
     "data": {
      "text/plain": [
       "(34982,)"
      ]
     },
     "execution_count": 226,
     "metadata": {},
     "output_type": "execute_result"
    }
   ],
   "source": [
    "questions = pd.Series(pd.concat([df_train_balanced.question1, df_train_balanced.question2], axis=0).unique())\n",
    "questions.shape"
   ]
  },
  {
   "cell_type": "code",
   "execution_count": 227,
   "metadata": {},
   "outputs": [
    {
     "data": {
      "text/plain": [
       "TfidfVectorizer(analyzer='word', binary=False, decode_error='strict',\n",
       "                dtype=<class 'numpy.float64'>, encoding='utf-8',\n",
       "                input='content', lowercase=True, max_df=1.0, max_features=None,\n",
       "                min_df=1, ngram_range=(1, 1), norm='l2', preprocessor=None,\n",
       "                smooth_idf=True, stop_words=None, strip_accents=None,\n",
       "                sublinear_tf=False, token_pattern='(?u)\\\\b\\\\w\\\\w+\\\\b',\n",
       "                tokenizer=None, use_idf=True, vocabulary=None)"
      ]
     },
     "execution_count": 227,
     "metadata": {},
     "output_type": "execute_result"
    }
   ],
   "source": [
    "from sklearn.feature_extraction.text import TfidfVectorizer\n",
    "\n",
    "vectorizer = TfidfVectorizer()\n",
    "vectorizer.fit(questions)"
   ]
  },
  {
   "cell_type": "code",
   "execution_count": 228,
   "metadata": {},
   "outputs": [],
   "source": [
    "from scipy.spatial import distance\n",
    "\n",
    "df_train_balanced['dist'] = df_train_balanced.apply(lambda x: distance.sqeuclidean(vectorizer.transform([x.question1]).toarray(), vectorizer.transform([x.question2]).toarray()), axis=1)"
   ]
  },
  {
   "cell_type": "code",
   "execution_count": 229,
   "metadata": {},
   "outputs": [],
   "source": [
    "def word_share(row):\n",
    "    w1 = set(row['question1'].split(' '))\n",
    "    w2 = set(row['question2'].split(' '))  \n",
    "    return 2 * len(w1 & w2)/(len(w1) + len(w2))\n",
    "\n",
    "df_train_balanced['word_share'] = df_train_balanced.apply(word_share, axis=1)"
   ]
  },
  {
   "cell_type": "code",
   "execution_count": 230,
   "metadata": {},
   "outputs": [],
   "source": [
    "df_train_balanced['q1_words'] = df_train_balanced.apply(lambda row: len(row['question1'].split(' ')), axis=1)\n",
    "df_train_balanced['q2_words'] = df_train_balanced.apply(lambda row: len(row['question2'].split(' ')), axis=1)"
   ]
  },
  {
   "cell_type": "code",
   "execution_count": 231,
   "metadata": {},
   "outputs": [],
   "source": [
    "df_train_balanced['q1_len'] = df_train_balanced.apply(lambda row: len(row['question1']), axis=1)\n",
    "df_train_balanced['q2_len'] = df_train_balanced.apply(lambda row: len(row['question2']), axis=1)"
   ]
  },
  {
   "cell_type": "code",
   "execution_count": 232,
   "metadata": {},
   "outputs": [],
   "source": [
    "idf = vectorizer.idf_\n",
    "features_weight = dict(zip(vectorizer.get_feature_names(), idf))"
   ]
  },
  {
   "cell_type": "code",
   "execution_count": 233,
   "metadata": {},
   "outputs": [
    {
     "data": {
      "text/plain": [
       "False"
      ]
     },
     "execution_count": 233,
     "metadata": {},
     "output_type": "execute_result"
    }
   ],
   "source": [
    "'i' in features_weight"
   ]
  },
  {
   "cell_type": "code",
   "execution_count": 234,
   "metadata": {},
   "outputs": [],
   "source": [
    "idf = vectorizer.idf_\n",
    "features_weight = dict(zip(vectorizer.get_feature_names(), idf))\n",
    "\n",
    "def word_share_weight(row):\n",
    "    w1 = row['question1'].split(' ')\n",
    "    w2 = row['question2'].split(' ')\n",
    "    all_words = w1 + w2\n",
    "    n = []\n",
    "    for w in set(w1) & set(w2):\n",
    "        if(w in features_weight):\n",
    "            n.append(features_weight[w])\n",
    "    \n",
    "    d = []\n",
    "    for w in all_words:\n",
    "        if(w in features_weight):\n",
    "            d.append(features_weight[w])\n",
    "            \n",
    "#     print(n[:10])\n",
    "    n = np.array(n)\n",
    "    n = np.sum(n)\n",
    "    d = np.array(d)\n",
    "    d = np.sum(d)\n",
    "    return 2* n/d\n",
    "\n",
    "df_train_balanced['word_share_weight'] = df_train_balanced.apply(word_share_weight, axis=1)"
   ]
  },
  {
   "cell_type": "code",
   "execution_count": 235,
   "metadata": {},
   "outputs": [
    {
     "data": {
      "text/plain": [
       "(20000, 10)"
      ]
     },
     "execution_count": 235,
     "metadata": {},
     "output_type": "execute_result"
    }
   ],
   "source": [
    "df_train_balanced.shape"
   ]
  },
  {
   "cell_type": "code",
   "execution_count": 236,
   "metadata": {},
   "outputs": [
    {
     "data": {
      "text/plain": [
       "(1115, 10)"
      ]
     },
     "execution_count": 236,
     "metadata": {},
     "output_type": "execute_result"
    }
   ],
   "source": [
    "df_train_balanced[df_train_balanced['word_share_weight']==0].shape"
   ]
  },
  {
   "cell_type": "code",
   "execution_count": 237,
   "metadata": {},
   "outputs": [
    {
     "data": {
      "text/html": [
       "<div>\n",
       "<style scoped>\n",
       "    .dataframe tbody tr th:only-of-type {\n",
       "        vertical-align: middle;\n",
       "    }\n",
       "\n",
       "    .dataframe tbody tr th {\n",
       "        vertical-align: top;\n",
       "    }\n",
       "\n",
       "    .dataframe thead th {\n",
       "        text-align: right;\n",
       "    }\n",
       "</style>\n",
       "<table border=\"1\" class=\"dataframe\">\n",
       "  <thead>\n",
       "    <tr style=\"text-align: right;\">\n",
       "      <th></th>\n",
       "      <th>question1</th>\n",
       "      <th>question2</th>\n",
       "      <th>is_duplicate</th>\n",
       "      <th>dist</th>\n",
       "      <th>word_share</th>\n",
       "      <th>q1_words</th>\n",
       "      <th>q2_words</th>\n",
       "      <th>q1_len</th>\n",
       "      <th>q2_len</th>\n",
       "      <th>word_share_weight</th>\n",
       "    </tr>\n",
       "  </thead>\n",
       "  <tbody>\n",
       "    <tr>\n",
       "      <th>5</th>\n",
       "      <td>astrolog capricorn sun cap moon cap rise what sai</td>\n",
       "      <td>tripl capricorn sun moon ascend capricorn what...</td>\n",
       "      <td>1</td>\n",
       "      <td>1.055979</td>\n",
       "      <td>0.666667</td>\n",
       "      <td>9</td>\n",
       "      <td>8</td>\n",
       "      <td>49</td>\n",
       "      <td>50</td>\n",
       "      <td>0.503926</td>\n",
       "    </tr>\n",
       "    <tr>\n",
       "      <th>7</th>\n",
       "      <td>how good geologist</td>\n",
       "      <td>what great geologist</td>\n",
       "      <td>1</td>\n",
       "      <td>0.500691</td>\n",
       "      <td>0.333333</td>\n",
       "      <td>3</td>\n",
       "      <td>3</td>\n",
       "      <td>18</td>\n",
       "      <td>20</td>\n",
       "      <td>0.574795</td>\n",
       "    </tr>\n",
       "    <tr>\n",
       "      <th>11</th>\n",
       "      <td>how read find youtub comment</td>\n",
       "      <td>how see youtub comment</td>\n",
       "      <td>1</td>\n",
       "      <td>0.631466</td>\n",
       "      <td>0.666667</td>\n",
       "      <td>5</td>\n",
       "      <td>4</td>\n",
       "      <td>28</td>\n",
       "      <td>22</td>\n",
       "      <td>0.656878</td>\n",
       "    </tr>\n",
       "    <tr>\n",
       "      <th>12</th>\n",
       "      <td>what make physic easi learn</td>\n",
       "      <td>how make physic easi learn</td>\n",
       "      <td>1</td>\n",
       "      <td>0.061480</td>\n",
       "      <td>0.800000</td>\n",
       "      <td>5</td>\n",
       "      <td>5</td>\n",
       "      <td>27</td>\n",
       "      <td>26</td>\n",
       "      <td>0.916942</td>\n",
       "    </tr>\n",
       "    <tr>\n",
       "      <th>13</th>\n",
       "      <td>what first sexual experi like</td>\n",
       "      <td>what first sexual experi</td>\n",
       "      <td>1</td>\n",
       "      <td>0.137941</td>\n",
       "      <td>0.888889</td>\n",
       "      <td>5</td>\n",
       "      <td>4</td>\n",
       "      <td>29</td>\n",
       "      <td>24</td>\n",
       "      <td>0.904839</td>\n",
       "    </tr>\n",
       "  </tbody>\n",
       "</table>\n",
       "</div>"
      ],
      "text/plain": [
       "                                            question1  \\\n",
       "5   astrolog capricorn sun cap moon cap rise what sai   \n",
       "7                                  how good geologist   \n",
       "11                       how read find youtub comment   \n",
       "12                        what make physic easi learn   \n",
       "13                      what first sexual experi like   \n",
       "\n",
       "                                            question2  is_duplicate      dist  \\\n",
       "5   tripl capricorn sun moon ascend capricorn what...             1  1.055979   \n",
       "7                                what great geologist             1  0.500691   \n",
       "11                             how see youtub comment             1  0.631466   \n",
       "12                         how make physic easi learn             1  0.061480   \n",
       "13                           what first sexual experi             1  0.137941   \n",
       "\n",
       "    word_share  q1_words  q2_words  q1_len  q2_len  word_share_weight  \n",
       "5     0.666667         9         8      49      50           0.503926  \n",
       "7     0.333333         3         3      18      20           0.574795  \n",
       "11    0.666667         5         4      28      22           0.656878  \n",
       "12    0.800000         5         5      27      26           0.916942  \n",
       "13    0.888889         5         4      29      24           0.904839  "
      ]
     },
     "execution_count": 237,
     "metadata": {},
     "output_type": "execute_result"
    }
   ],
   "source": [
    "df_train_balanced.head()"
   ]
  },
  {
   "cell_type": "code",
   "execution_count": 238,
   "metadata": {},
   "outputs": [
    {
     "data": {
      "image/png": "[encoded data removed]",
      "text/plain": [
       "<Figure size 504x504 with 2 Axes>"
      ]
     },
     "metadata": {},
     "output_type": "display_data"
    }
   ],
   "source": [
    "# Desenhe um mapa de calor com as correlações\n",
    "sns.set(style=\"whitegrid\", palette=\"muted\", color_codes=True)\n",
    "\n",
    "fig, ax = plt.subplots(figsize=(7, 7), sharex=True)\n",
    "\n",
    "sns.heatmap(df_train_balanced.drop(['question1', 'question2'], axis=1).corr(), annot=True, linewidths=1, ax=ax, cmap='YlGnBu',  vmin=0, vmax=1, alpha = 0.8)\n",
    "plt.tight_layout()"
   ]
  },
  {
   "cell_type": "code",
   "execution_count": 240,
   "metadata": {},
   "outputs": [
    {
     "data": {
      "image/png": "[encoded data removed]",
      "text/plain": [
       "<Figure size 504x504 with 1 Axes>"
      ]
     },
     "metadata": {},
     "output_type": "display_data"
    }
   ],
   "source": [
    "sns.set(style=\"whitegrid\", palette=\"muted\", color_codes=True)\n",
    "\n",
    "fig, ax = plt.subplots(figsize=(7, 7), sharex=True)\n",
    "# sns.despine(left=True)\n",
    "\n",
    "# sns.distplot(df_train_balanced[df_train_balanced['is_duplicate'] == 1]['word_share'].values)\n",
    "# sns.distplot(df_train_balanced[df_train_balanced['is_duplicate'] == 0]['word_share'].values)\n",
    "\n",
    "ax.hist(df_train_balanced[df_train_balanced['is_duplicate'] == 1]['word_share_weight'].values * 100,  bins=20, alpha=0.6, label='1')\n",
    "ax.hist(df_train_balanced[df_train_balanced['is_duplicate'] == 0]['word_share_weight'].values * 100,  bins=20, alpha=0.6, label='0')\n",
    "\n",
    "ax.set_ylabel('Número de pares de perguntas')\n",
    "ax.set_xlabel('Peso Tf–idf das palavras compartilhadas (%)')\n",
    "ax.legend(['Duplicado', 'Não duplicado'])\n",
    "\n",
    "# plt.setp(ax, yticks=[])\n",
    "plt.tight_layout()"
   ]
  },
  {
   "cell_type": "code",
   "execution_count": 241,
   "metadata": {},
   "outputs": [
    {
     "data": {
      "image/png": "[encoded data removed]",
      "text/plain": [
       "<Figure size 504x504 with 1 Axes>"
      ]
     },
     "metadata": {},
     "output_type": "display_data"
    }
   ],
   "source": [
    "sns.set(style=\"whitegrid\", palette=\"muted\", color_codes=True)\n",
    "\n",
    "bins = np.linspace(0, 1, 10)\n",
    "\n",
    "highest_dist = np.max(df_train_balanced['dist'])\n",
    "highest_dist = 1\n",
    "\n",
    "fig, ax = plt.subplots(figsize=(7, 7), sharex=True)\n",
    "\n",
    "ax.hist(df_train_balanced[df_train_balanced['is_duplicate'] == 1]['dist'].values/highest_dist, bins=20, alpha=0.6, label='1')\n",
    "ax.hist(df_train_balanced[df_train_balanced['is_duplicate'] == 0]['dist'].values/highest_dist, bins=20, alpha=0.6, label='0')\n",
    "\n",
    "ax.set_ylabel('Número de pares de perguntas')\n",
    "ax.set_xlabel('Distância euclidiana')\n",
    "ax.legend(['Duplicado', 'Não duplicado'])\n",
    "\n",
    "plt.tight_layout()"
   ]
  },
  {
   "cell_type": "code",
   "execution_count": 242,
   "metadata": {},
   "outputs": [
    {
     "data": {
      "image/png": "[encoded data removed]",
      "text/plain": [
       "<Figure size 504x504 with 1 Axes>"
      ]
     },
     "metadata": {},
     "output_type": "display_data"
    }
   ],
   "source": [
    "sns.set(style=\"whitegrid\", palette=\"muted\", color_codes=True)\n",
    "\n",
    "fig, ax = plt.subplots(figsize=(7, 7), sharex=True)\n",
    "# sns.despine(left=True)\n",
    "\n",
    "# sns.distplot(df_train_balanced[df_train_balanced['is_duplicate'] == 1]['word_share'].values)\n",
    "# sns.distplot(df_train_balanced[df_train_balanced['is_duplicate'] == 0]['word_share'].values)\n",
    "\n",
    "ax.hist(df_train_balanced[df_train_balanced['is_duplicate'] == 1]['word_share'].values *100,  bins=20, alpha=0.6, label='1')\n",
    "ax.hist(df_train_balanced[df_train_balanced['is_duplicate'] == 0]['word_share'].values *100,  bins=20, alpha=0.6, label='0')\n",
    "\n",
    "ax.set_ylabel('Número de pares de perguntas')\n",
    "ax.set_xlabel('Palavras compartilhadas (%)')\n",
    "ax.legend(['Duplicadas', 'Não duplicadas'])\n",
    "\n",
    "# plt.setp(ax, yticks=[])\n",
    "plt.tight_layout()"
   ]
  },
  {
   "cell_type": "code",
   "execution_count": 54,
   "metadata": {},
   "outputs": [
    {
     "data": {
      "text/html": [
       "<div>\n",
       "<style scoped>\n",
       "    .dataframe tbody tr th:only-of-type {\n",
       "        vertical-align: middle;\n",
       "    }\n",
       "\n",
       "    .dataframe tbody tr th {\n",
       "        vertical-align: top;\n",
       "    }\n",
       "\n",
       "    .dataframe thead th {\n",
       "        text-align: right;\n",
       "    }\n",
       "</style>\n",
       "<table border=\"1\" class=\"dataframe\">\n",
       "  <thead>\n",
       "    <tr style=\"text-align: right;\">\n",
       "      <th></th>\n",
       "      <th>question1</th>\n",
       "      <th>question2</th>\n",
       "      <th>is_duplicate</th>\n",
       "    </tr>\n",
       "  </thead>\n",
       "  <tbody>\n",
       "    <tr>\n",
       "      <th>0</th>\n",
       "      <td>what step step guid invest share market india</td>\n",
       "      <td>what step step guid invest share market</td>\n",
       "      <td>0</td>\n",
       "    </tr>\n",
       "    <tr>\n",
       "      <th>1</th>\n",
       "      <td>what stori kohinoor koh noor diamond</td>\n",
       "      <td>what would happen indian govern stole kohinoor...</td>\n",
       "      <td>0</td>\n",
       "    </tr>\n",
       "    <tr>\n",
       "      <th>2</th>\n",
       "      <td>how increas speed internet connect us vpn</td>\n",
       "      <td>how internet speed increas hack dn</td>\n",
       "      <td>0</td>\n",
       "    </tr>\n",
       "    <tr>\n",
       "      <th>3</th>\n",
       "      <td>why mental lone how solv</td>\n",
       "      <td>find remaind when math math divid</td>\n",
       "      <td>0</td>\n",
       "    </tr>\n",
       "    <tr>\n",
       "      <th>4</th>\n",
       "      <td>which on dissolv water quikli sugar salt metha...</td>\n",
       "      <td>which fish would surviv salt water</td>\n",
       "      <td>0</td>\n",
       "    </tr>\n",
       "  </tbody>\n",
       "</table>\n",
       "</div>"
      ],
      "text/plain": [
       "                                           question1  \\\n",
       "0      what step step guid invest share market india   \n",
       "1               what stori kohinoor koh noor diamond   \n",
       "2          how increas speed internet connect us vpn   \n",
       "3                           why mental lone how solv   \n",
       "4  which on dissolv water quikli sugar salt metha...   \n",
       "\n",
       "                                           question2  is_duplicate  \n",
       "0            what step step guid invest share market             0  \n",
       "1  what would happen indian govern stole kohinoor...             0  \n",
       "2                 how internet speed increas hack dn             0  \n",
       "3                  find remaind when math math divid             0  \n",
       "4                 which fish would surviv salt water             0  "
      ]
     },
     "execution_count": 54,
     "metadata": {},
     "output_type": "execute_result"
    }
   ],
   "source": [
    "df_train.head()"
   ]
  },
  {
   "cell_type": "markdown",
   "metadata": {},
   "source": [
    "# Implementação do Modelo"
   ]
  },
  {
   "cell_type": "code",
   "execution_count": 1,
   "metadata": {},
   "outputs": [],
   "source": [
    "import pandas as pd\n",
    "import numpy as np\n",
    "import matplotlib.pyplot as plt\n",
    "import seaborn as sns"
   ]
  },
  {
   "cell_type": "code",
   "execution_count": 2,
   "metadata": {},
   "outputs": [
    {
     "name": "stdout",
     "output_type": "stream",
     "text": [
      "(404290, 3)\n"
     ]
    }
   ],
   "source": [
    "df_train = pd.read_csv(\"input/train.csv\")\n",
    "df_train.fillna('empty', inplace=True)\n",
    "df_train.drop(['id', 'qid1', 'qid2'], inplace=True, axis=1)\n",
    "print(df_train.shape)"
   ]
  },
  {
   "cell_type": "markdown",
   "metadata": {},
   "source": [
    "## Reamostragem"
   ]
  },
  {
   "cell_type": "code",
   "execution_count": 3,
   "metadata": {},
   "outputs": [
    {
     "name": "stdout",
     "output_type": "stream",
     "text": [
      "(255027, 3)\n",
      "255027\n",
      "\n",
      "(149263, 3)\n",
      "149263\n"
     ]
    }
   ],
   "source": [
    "# Class count, Divide by class\n",
    "df_class_0 = df_train[df_train['is_duplicate'] == 0]\n",
    "df_class_1 = df_train[df_train['is_duplicate'] == 1]\n",
    "\n",
    "count_class_0 = df_class_0['is_duplicate'].count()\n",
    "count_class_1 = df_class_1['is_duplicate'].count()\n",
    "\n",
    "print(df_class_0.shape)\n",
    "print(count_class_0)\n",
    "print()\n",
    "print(df_class_1.shape)\n",
    "print(count_class_1)"
   ]
  },
  {
   "cell_type": "code",
   "execution_count": 4,
   "metadata": {},
   "outputs": [
    {
     "name": "stdout",
     "output_type": "stream",
     "text": [
      "(255027, 3)\n"
     ]
    }
   ],
   "source": [
    "df_class_1_over = df_class_1.sample(count_class_0, replace=True)\n",
    "print(df_class_1_over.shape)"
   ]
  },
  {
   "cell_type": "code",
   "execution_count": 5,
   "metadata": {},
   "outputs": [
    {
     "name": "stdout",
     "output_type": "stream",
     "text": [
      "Random over-sampling:\n",
      "(510054, 3)\n"
     ]
    }
   ],
   "source": [
    "df_train_over = pd.concat([df_class_0, df_class_1_over], axis=0)\n",
    "\n",
    "print('Random over-sampling:')\n",
    "print(df_train_over.shape)"
   ]
  },
  {
   "cell_type": "code",
   "execution_count": 6,
   "metadata": {},
   "outputs": [
    {
     "data": {
      "text/html": [
       "<div>\n",
       "<style scoped>\n",
       "    .dataframe tbody tr th:only-of-type {\n",
       "        vertical-align: middle;\n",
       "    }\n",
       "\n",
       "    .dataframe tbody tr th {\n",
       "        vertical-align: top;\n",
       "    }\n",
       "\n",
       "    .dataframe thead th {\n",
       "        text-align: right;\n",
       "    }\n",
       "</style>\n",
       "<table border=\"1\" class=\"dataframe\">\n",
       "  <thead>\n",
       "    <tr style=\"text-align: right;\">\n",
       "      <th></th>\n",
       "      <th>question1</th>\n",
       "      <th>question2</th>\n",
       "    </tr>\n",
       "    <tr>\n",
       "      <th>is_duplicate</th>\n",
       "      <th></th>\n",
       "      <th></th>\n",
       "    </tr>\n",
       "  </thead>\n",
       "  <tbody>\n",
       "    <tr>\n",
       "      <th>0</th>\n",
       "      <td>255027</td>\n",
       "      <td>255027</td>\n",
       "    </tr>\n",
       "    <tr>\n",
       "      <th>1</th>\n",
       "      <td>255027</td>\n",
       "      <td>255027</td>\n",
       "    </tr>\n",
       "  </tbody>\n",
       "</table>\n",
       "</div>"
      ],
      "text/plain": [
       "              question1  question2\n",
       "is_duplicate                      \n",
       "0                255027     255027\n",
       "1                255027     255027"
      ]
     },
     "execution_count": 6,
     "metadata": {},
     "output_type": "execute_result"
    }
   ],
   "source": [
    "df_train_over.groupby('is_duplicate').count()"
   ]
  },
  {
   "cell_type": "markdown",
   "metadata": {},
   "source": [
    "## Limpar dados"
   ]
  },
  {
   "cell_type": "code",
   "execution_count": 7,
   "metadata": {},
   "outputs": [],
   "source": [
    "from gensim.parsing.preprocessing import *\n",
    "from nltk.corpus import stopwords\n",
    "\n",
    "stop_words = stopwords.words('english')\n",
    "words = ['what', 'which', 'who', 'whom', 'when', 'where', 'why', 'how']\n",
    "for w in words:\n",
    "    stop_words.remove(w)\n",
    "\n",
    "def question_preprocessing(question):\n",
    "    question = question.lower()\n",
    "    question = strip_punctuation(question)\n",
    "    question = strip_numeric(question)\n",
    "    question = strip_non_alphanum(question)\n",
    "    question = strip_multiple_whitespaces(question)\n",
    "    question = [w for w in question.split() if not w in stop_words]\n",
    "    question = \" \".join(question)\n",
    "    question = strip_short(question, minsize=3)\n",
    "    question = stem_text(question)\n",
    "    \n",
    "    return question"
   ]
  },
  {
   "cell_type": "code",
   "execution_count": 9,
   "metadata": {},
   "outputs": [
    {
     "name": "stdout",
     "output_type": "stream",
     "text": [
      "CPU times: user 1min 42s, sys: 999 ms, total: 1min 43s\n",
      "Wall time: 1min 49s\n"
     ]
    }
   ],
   "source": [
    "%%time\n",
    "df_train_over['question1'] = df_train_over['question1'].map(lambda q: question_preprocessing(q))\n",
    "df_train_over['question2'] = df_train_over['question2'].map(lambda q: question_preprocessing(q))"
   ]
  },
  {
   "cell_type": "code",
   "execution_count": 11,
   "metadata": {},
   "outputs": [
    {
     "data": {
      "text/html": [
       "<div>\n",
       "<style scoped>\n",
       "    .dataframe tbody tr th:only-of-type {\n",
       "        vertical-align: middle;\n",
       "    }\n",
       "\n",
       "    .dataframe tbody tr th {\n",
       "        vertical-align: top;\n",
       "    }\n",
       "\n",
       "    .dataframe thead th {\n",
       "        text-align: right;\n",
       "    }\n",
       "</style>\n",
       "<table border=\"1\" class=\"dataframe\">\n",
       "  <thead>\n",
       "    <tr style=\"text-align: right;\">\n",
       "      <th></th>\n",
       "      <th>question1</th>\n",
       "      <th>question2</th>\n",
       "      <th>is_duplicate</th>\n",
       "    </tr>\n",
       "  </thead>\n",
       "  <tbody>\n",
       "    <tr>\n",
       "      <th>0</th>\n",
       "      <td>what step step guid invest share market india</td>\n",
       "      <td>what step step guid invest share market</td>\n",
       "      <td>0</td>\n",
       "    </tr>\n",
       "    <tr>\n",
       "      <th>1</th>\n",
       "      <td>what stori kohinoor koh noor diamond</td>\n",
       "      <td>what would happen indian govern stole kohinoor...</td>\n",
       "      <td>0</td>\n",
       "    </tr>\n",
       "    <tr>\n",
       "      <th>2</th>\n",
       "      <td>how increa speed internet connect vpn</td>\n",
       "      <td>how internet speed increa hack</td>\n",
       "      <td>0</td>\n",
       "    </tr>\n",
       "    <tr>\n",
       "      <th>3</th>\n",
       "      <td>why mental lone how solv</td>\n",
       "      <td>find remaind when math math divid</td>\n",
       "      <td>0</td>\n",
       "    </tr>\n",
       "    <tr>\n",
       "      <th>4</th>\n",
       "      <td>which dissolv water quikli sugar salt methan c...</td>\n",
       "      <td>which fish would surviv salt water</td>\n",
       "      <td>0</td>\n",
       "    </tr>\n",
       "  </tbody>\n",
       "</table>\n",
       "</div>"
      ],
      "text/plain": [
       "                                           question1  \\\n",
       "0      what step step guid invest share market india   \n",
       "1               what stori kohinoor koh noor diamond   \n",
       "2              how increa speed internet connect vpn   \n",
       "3                           why mental lone how solv   \n",
       "4  which dissolv water quikli sugar salt methan c...   \n",
       "\n",
       "                                           question2  is_duplicate  \n",
       "0            what step step guid invest share market             0  \n",
       "1  what would happen indian govern stole kohinoor...             0  \n",
       "2                     how internet speed increa hack             0  \n",
       "3                  find remaind when math math divid             0  \n",
       "4                 which fish would surviv salt water             0  "
      ]
     },
     "execution_count": 11,
     "metadata": {},
     "output_type": "execute_result"
    }
   ],
   "source": [
    "df_train_over.head()"
   ]
  },
  {
   "cell_type": "code",
   "execution_count": 12,
   "metadata": {},
   "outputs": [
    {
     "data": {
      "text/plain": [
       "(510054, 3)"
      ]
     },
     "execution_count": 12,
     "metadata": {},
     "output_type": "execute_result"
    }
   ],
   "source": [
    "df_train_over.shape"
   ]
  },
  {
   "cell_type": "markdown",
   "metadata": {},
   "source": [
    "## Vetorização"
   ]
  },
  {
   "cell_type": "code",
   "execution_count": 13,
   "metadata": {},
   "outputs": [
    {
     "data": {
      "text/plain": [
       "(1020108,)"
      ]
     },
     "execution_count": 13,
     "metadata": {},
     "output_type": "execute_result"
    }
   ],
   "source": [
    "# Questions\n",
    "questions_fit = pd.concat([df_train_over['question1'], df_train_over['question2']], axis=0)\n",
    "questions_fit.shape"
   ]
  },
  {
   "cell_type": "code",
   "execution_count": 14,
   "metadata": {},
   "outputs": [],
   "source": [
    "# %%time\n",
    "# questions_fit = questions_fit.map(lambda x: question_preprocessing(x))"
   ]
  },
  {
   "cell_type": "code",
   "execution_count": 15,
   "metadata": {},
   "outputs": [
    {
     "name": "stdout",
     "output_type": "stream",
     "text": [
      "CPU times: user 11.7 s, sys: 326 ms, total: 12.1 s\n",
      "Wall time: 12.5 s\n"
     ]
    }
   ],
   "source": [
    "%%time\n",
    "from sklearn.feature_extraction.text import TfidfVectorizer\n",
    "\n",
    "vectorizer = TfidfVectorizer()\n",
    "vectorizer.fit(questions_fit)"
   ]
  },
  {
   "cell_type": "markdown",
   "metadata": {},
   "source": [
    "## Feature Engeneering"
   ]
  },
  {
   "cell_type": "markdown",
   "metadata": {},
   "source": [
    "### Distância"
   ]
  },
  {
   "cell_type": "code",
   "execution_count": 16,
   "metadata": {},
   "outputs": [],
   "source": [
    "# from scipy.spatial import distance\n",
    "\n",
    "# def euclidean_dist(q1, q2):\n",
    "#      return distance.sqeuclidean(vectorizer.transform([q1]).toarray(), vectorizer.transform([q2]).toarray())"
   ]
  },
  {
   "cell_type": "code",
   "execution_count": 17,
   "metadata": {},
   "outputs": [],
   "source": [
    "# %%time\n",
    "# df_train_over['dist'] = df_train_over.apply(lambda x: euclidean_dist(x['question1'], x['question2']), axis=1)"
   ]
  },
  {
   "cell_type": "markdown",
   "metadata": {},
   "source": [
    "### Número de palavras"
   ]
  },
  {
   "cell_type": "code",
   "execution_count": 18,
   "metadata": {},
   "outputs": [
    {
     "name": "stdout",
     "output_type": "stream",
     "text": [
      "CPU times: user 19.6 s, sys: 107 ms, total: 19.7 s\n",
      "Wall time: 19.9 s\n"
     ]
    }
   ],
   "source": [
    "%%time\n",
    "df_train_over['q1_words'] = df_train_over.apply(lambda row: len(row['question1'].split(' ')), axis=1)\n",
    "df_train_over['q2_words'] = df_train_over.apply(lambda row: len(row['question2'].split(' ')), axis=1)"
   ]
  },
  {
   "cell_type": "markdown",
   "metadata": {},
   "source": [
    "### Tamanho da pergunta"
   ]
  },
  {
   "cell_type": "code",
   "execution_count": 19,
   "metadata": {},
   "outputs": [
    {
     "name": "stdout",
     "output_type": "stream",
     "text": [
      "CPU times: user 19.7 s, sys: 138 ms, total: 19.8 s\n",
      "Wall time: 20.2 s\n"
     ]
    }
   ],
   "source": [
    "%%time\n",
    "df_train_over['q1_len'] = df_train_over.apply(lambda row: len(row['question1']), axis=1)\n",
    "df_train_over['q2_len'] = df_train_over.apply(lambda row: len(row['question2']), axis=1)"
   ]
  },
  {
   "cell_type": "markdown",
   "metadata": {},
   "source": [
    "### Compartilhamento de palavras"
   ]
  },
  {
   "cell_type": "code",
   "execution_count": 20,
   "metadata": {},
   "outputs": [],
   "source": [
    "def word_share(row):\n",
    "    w1 = set(row['question1'].split(' '))\n",
    "    w2 = set(row['question2'].split(' '))  \n",
    "    return 2 * len(w1 & w2)/(len(w1) + len(w2))"
   ]
  },
  {
   "cell_type": "code",
   "execution_count": 21,
   "metadata": {},
   "outputs": [
    {
     "name": "stdout",
     "output_type": "stream",
     "text": [
      "CPU times: user 18.4 s, sys: 121 ms, total: 18.5 s\n",
      "Wall time: 18.8 s\n"
     ]
    }
   ],
   "source": [
    "%%time\n",
    "df_train_over['word_share'] = df_train_over.apply(word_share, axis=1)"
   ]
  },
  {
   "cell_type": "markdown",
   "metadata": {},
   "source": [
    "### Comartilhamento do peso das palavras"
   ]
  },
  {
   "cell_type": "code",
   "execution_count": 22,
   "metadata": {},
   "outputs": [],
   "source": [
    "idf = vectorizer.idf_\n",
    "features_weight = dict(zip(vectorizer.get_feature_names(), idf))\n",
    "\n",
    "def word_share_weight(row):\n",
    "    w1 = row['question1'].split(' ')\n",
    "    w2 = row['question2'].split(' ')\n",
    "    all_words = w1 + w2\n",
    "    n = []\n",
    "    for w in set(w1) & set(w2):\n",
    "        if(w in features_weight):\n",
    "            n.append(features_weight[w])\n",
    "    \n",
    "    d = []\n",
    "    for w in all_words:\n",
    "        if(w in features_weight):\n",
    "            d.append(features_weight[w])\n",
    "            \n",
    "#     print(n[:10])\n",
    "    n = np.array(n)\n",
    "    n = np.sum(n)\n",
    "    d = np.array(d)\n",
    "    d = np.sum(d)\n",
    "    return 2* n/d"
   ]
  },
  {
   "cell_type": "code",
   "execution_count": 23,
   "metadata": {},
   "outputs": [
    {
     "name": "stderr",
     "output_type": "stream",
     "text": [
      "/usr/local/lib/python3.7/site-packages/ipykernel_launcher.py:23: RuntimeWarning: invalid value encountered in double_scalars\n"
     ]
    },
    {
     "name": "stdout",
     "output_type": "stream",
     "text": [
      "CPU times: user 33.5 s, sys: 129 ms, total: 33.6 s\n",
      "Wall time: 33.8 s\n"
     ]
    }
   ],
   "source": [
    "%%time\n",
    "df_train_over['word_share_weight'] = df_train_over.apply(word_share_weight, axis=1)"
   ]
  },
  {
   "cell_type": "code",
   "execution_count": 24,
   "metadata": {},
   "outputs": [
    {
     "data": {
      "text/html": [
       "<div>\n",
       "<style scoped>\n",
       "    .dataframe tbody tr th:only-of-type {\n",
       "        vertical-align: middle;\n",
       "    }\n",
       "\n",
       "    .dataframe tbody tr th {\n",
       "        vertical-align: top;\n",
       "    }\n",
       "\n",
       "    .dataframe thead th {\n",
       "        text-align: right;\n",
       "    }\n",
       "</style>\n",
       "<table border=\"1\" class=\"dataframe\">\n",
       "  <thead>\n",
       "    <tr style=\"text-align: right;\">\n",
       "      <th></th>\n",
       "      <th>question1</th>\n",
       "      <th>question2</th>\n",
       "      <th>is_duplicate</th>\n",
       "      <th>q1_words</th>\n",
       "      <th>q2_words</th>\n",
       "      <th>q1_len</th>\n",
       "      <th>q2_len</th>\n",
       "      <th>word_share</th>\n",
       "      <th>word_share_weight</th>\n",
       "    </tr>\n",
       "  </thead>\n",
       "  <tbody>\n",
       "    <tr>\n",
       "      <th>0</th>\n",
       "      <td>what step step guid invest share market india</td>\n",
       "      <td>what step step guid invest share market</td>\n",
       "      <td>0</td>\n",
       "      <td>8</td>\n",
       "      <td>7</td>\n",
       "      <td>45</td>\n",
       "      <td>39</td>\n",
       "      <td>0.923077</td>\n",
       "      <td>0.798524</td>\n",
       "    </tr>\n",
       "    <tr>\n",
       "      <th>1</th>\n",
       "      <td>what stori kohinoor koh noor diamond</td>\n",
       "      <td>what would happen indian govern stole kohinoor...</td>\n",
       "      <td>0</td>\n",
       "      <td>6</td>\n",
       "      <td>11</td>\n",
       "      <td>36</td>\n",
       "      <td>68</td>\n",
       "      <td>0.588235</td>\n",
       "      <td>0.674507</td>\n",
       "    </tr>\n",
       "    <tr>\n",
       "      <th>2</th>\n",
       "      <td>how increa speed internet connect vpn</td>\n",
       "      <td>how internet speed increa hack</td>\n",
       "      <td>0</td>\n",
       "      <td>6</td>\n",
       "      <td>5</td>\n",
       "      <td>37</td>\n",
       "      <td>30</td>\n",
       "      <td>0.727273</td>\n",
       "      <td>0.662342</td>\n",
       "    </tr>\n",
       "    <tr>\n",
       "      <th>3</th>\n",
       "      <td>why mental lone how solv</td>\n",
       "      <td>find remaind when math math divid</td>\n",
       "      <td>0</td>\n",
       "      <td>5</td>\n",
       "      <td>6</td>\n",
       "      <td>24</td>\n",
       "      <td>33</td>\n",
       "      <td>0.000000</td>\n",
       "      <td>0.000000</td>\n",
       "    </tr>\n",
       "    <tr>\n",
       "      <th>4</th>\n",
       "      <td>which dissolv water quikli sugar salt methan c...</td>\n",
       "      <td>which fish would surviv salt water</td>\n",
       "      <td>0</td>\n",
       "      <td>9</td>\n",
       "      <td>6</td>\n",
       "      <td>56</td>\n",
       "      <td>34</td>\n",
       "      <td>0.400000</td>\n",
       "      <td>0.315821</td>\n",
       "    </tr>\n",
       "  </tbody>\n",
       "</table>\n",
       "</div>"
      ],
      "text/plain": [
       "                                           question1  \\\n",
       "0      what step step guid invest share market india   \n",
       "1               what stori kohinoor koh noor diamond   \n",
       "2              how increa speed internet connect vpn   \n",
       "3                           why mental lone how solv   \n",
       "4  which dissolv water quikli sugar salt methan c...   \n",
       "\n",
       "                                           question2  is_duplicate  q1_words  \\\n",
       "0            what step step guid invest share market             0         8   \n",
       "1  what would happen indian govern stole kohinoor...             0         6   \n",
       "2                     how internet speed increa hack             0         6   \n",
       "3                  find remaind when math math divid             0         5   \n",
       "4                 which fish would surviv salt water             0         9   \n",
       "\n",
       "   q2_words  q1_len  q2_len  word_share  word_share_weight  \n",
       "0         7      45      39    0.923077           0.798524  \n",
       "1        11      36      68    0.588235           0.674507  \n",
       "2         5      37      30    0.727273           0.662342  \n",
       "3         6      24      33    0.000000           0.000000  \n",
       "4         6      56      34    0.400000           0.315821  "
      ]
     },
     "execution_count": 24,
     "metadata": {},
     "output_type": "execute_result"
    }
   ],
   "source": [
    "df_train_over.head()"
   ]
  },
  {
   "cell_type": "markdown",
   "metadata": {},
   "source": [
    "### Normalizar"
   ]
  },
  {
   "cell_type": "code",
   "execution_count": 61,
   "metadata": {},
   "outputs": [],
   "source": [
    "# %%time\n",
    "# from sklearn.preprocessing import Normalizer\n",
    "\n",
    "# df_train_over_norm = Normalizer(norm='l1').fit_transform(df_train_over.drop(['question1', 'question2','is_duplicate','word_share_weight','word_share'], axis=1))"
   ]
  },
  {
   "cell_type": "code",
   "execution_count": 62,
   "metadata": {},
   "outputs": [],
   "source": [
    "# df_train_over_norm = pd.DataFrame(df_train_over_norm)\n",
    "# df_train_over_norm['4'] = df_train_over['word_share'].values\n",
    "# df_train_over_norm['5'] = df_train_over['word_share_weight'].values\n",
    "# df_train_over_norm['is_duplicate'] = df_train_over['is_duplicate'].values\n",
    "# df_train_over_norm['question1'] = df_train_over['question1'].values\n",
    "# df_train_over_norm['question2'] = df_train_over['question2'].values\n",
    "# df_train_over_norm.head()"
   ]
  },
  {
   "cell_type": "code",
   "execution_count": 63,
   "metadata": {},
   "outputs": [],
   "source": [
    "# # Desenhe um mapa de calor com as correlações\n",
    "# sns.set(style=\"whitegrid\", palette=\"muted\", color_codes=True)\n",
    "\n",
    "# fig, ax = plt.subplots(figsize=(7, 7), sharex=True)\n",
    "\n",
    "# sns.heatmap(df_train_over_norm.corr(), annot=True, linewidths=1, ax=ax, cmap='YlGnBu',  vmin=0, vmax=1, alpha = 0.8)\n",
    "# plt.tight_layout()"
   ]
  },
  {
   "cell_type": "code",
   "execution_count": 64,
   "metadata": {},
   "outputs": [
    {
     "data": {
      "image/png": "[encoded data removed]",
      "text/plain": [
       "<Figure size 504x504 with 2 Axes>"
      ]
     },
     "metadata": {},
     "output_type": "display_data"
    }
   ],
   "source": [
    "# Desenhe um mapa de calor com as correlações\n",
    "sns.set(style=\"whitegrid\", palette=\"muted\", color_codes=True)\n",
    "\n",
    "fig, ax = plt.subplots(figsize=(7, 7), sharex=True)\n",
    "\n",
    "sns.heatmap(df_train_over.drop(['question1', 'question2'], axis=1).corr(), annot=True, linewidths=1, ax=ax, cmap='YlGnBu',  vmin=0, vmax=1, alpha = 0.8)\n",
    "plt.tight_layout()"
   ]
  },
  {
   "cell_type": "markdown",
   "metadata": {},
   "source": [
    "### Dados de entrada"
   ]
  },
  {
   "cell_type": "code",
   "execution_count": 65,
   "metadata": {},
   "outputs": [
    {
     "data": {
      "text/html": [
       "<div>\n",
       "<style scoped>\n",
       "    .dataframe tbody tr th:only-of-type {\n",
       "        vertical-align: middle;\n",
       "    }\n",
       "\n",
       "    .dataframe tbody tr th {\n",
       "        vertical-align: top;\n",
       "    }\n",
       "\n",
       "    .dataframe thead th {\n",
       "        text-align: right;\n",
       "    }\n",
       "</style>\n",
       "<table border=\"1\" class=\"dataframe\">\n",
       "  <thead>\n",
       "    <tr style=\"text-align: right;\">\n",
       "      <th></th>\n",
       "      <th>question1</th>\n",
       "      <th>question2</th>\n",
       "      <th>is_duplicate</th>\n",
       "      <th>q1_words</th>\n",
       "      <th>q2_words</th>\n",
       "      <th>q1_len</th>\n",
       "      <th>q2_len</th>\n",
       "      <th>word_share</th>\n",
       "      <th>word_share_weight</th>\n",
       "    </tr>\n",
       "  </thead>\n",
       "  <tbody>\n",
       "    <tr>\n",
       "      <th>0</th>\n",
       "      <td>what step step guid invest share market india</td>\n",
       "      <td>what step step guid invest share market</td>\n",
       "      <td>0</td>\n",
       "      <td>8</td>\n",
       "      <td>7</td>\n",
       "      <td>45</td>\n",
       "      <td>39</td>\n",
       "      <td>0.923077</td>\n",
       "      <td>0.798524</td>\n",
       "    </tr>\n",
       "  </tbody>\n",
       "</table>\n",
       "</div>"
      ],
      "text/plain": [
       "                                       question1  \\\n",
       "0  what step step guid invest share market india   \n",
       "\n",
       "                                 question2  is_duplicate  q1_words  q2_words  \\\n",
       "0  what step step guid invest share market             0         8         7   \n",
       "\n",
       "   q1_len  q2_len  word_share  word_share_weight  \n",
       "0      45      39    0.923077           0.798524  "
      ]
     },
     "execution_count": 65,
     "metadata": {},
     "output_type": "execute_result"
    }
   ],
   "source": [
    "df_train_over.head(1)"
   ]
  },
  {
   "cell_type": "code",
   "execution_count": 66,
   "metadata": {},
   "outputs": [
    {
     "name": "stdout",
     "output_type": "stream",
     "text": [
      "x_vec_q1 (510054, 57613)\n",
      "x_vec_q2 (510054, 57613)\n",
      "features_eng (510054, 6)\n",
      "\n",
      "Train (510054, 115232)\n",
      "Lable (510054,)\n",
      "CPU times: user 10.9 s, sys: 321 ms, total: 11.3 s\n",
      "Wall time: 11.3 s\n"
     ]
    }
   ],
   "source": [
    "%%time\n",
    "from scipy.sparse import hstack\n",
    "\n",
    "x_vec_q1 = vectorizer.transform(df_train_over_norm['question1'].values)\n",
    "x_vec_q2 = vectorizer.transform(df_train_over['question2'].values)\n",
    "features_eng = df_train_over.drop(['question1', 'question2', 'is_duplicate'], axis=1).values\n",
    "\n",
    "# X = df_train_over_norm.values\n",
    "# X = hstack([x_vec_q1, x_vec_q2])\n",
    "X = hstack([features_eng, x_vec_q1, x_vec_q2])\n",
    "y = df_train_over['is_duplicate'].values\n",
    "\n",
    "print('x_vec_q1 {}'.format(x_vec_q1.shape))\n",
    "print('x_vec_q2 {}'.format(x_vec_q2.shape))\n",
    "print('features_eng {}'.format(features_eng.shape))\n",
    "print()\n",
    "print('Train {}'.format(X.shape))\n",
    "print('Lable {}'.format(y.shape))"
   ]
  },
  {
   "cell_type": "code",
   "execution_count": 67,
   "metadata": {},
   "outputs": [
    {
     "name": "stdout",
     "output_type": "stream",
     "text": [
      "[0]\ttrain-logloss:0.604025\tvalid-logloss:0.60499\n",
      "Multiple eval metrics have been passed: 'valid-logloss' will be used for early stopping.\n",
      "\n",
      "Will train until valid-logloss hasn't improved in 50 rounds.\n",
      "[5]\ttrain-logloss:0.530171\tvalid-logloss:0.532805\n",
      "[10]\ttrain-logloss:0.512726\tvalid-logloss:0.515842\n",
      "[15]\ttrain-logloss:0.501692\tvalid-logloss:0.505201\n",
      "[20]\ttrain-logloss:0.493534\tvalid-logloss:0.497323\n",
      "[25]\ttrain-logloss:0.487698\tvalid-logloss:0.491925\n",
      "[30]\ttrain-logloss:0.482138\tvalid-logloss:0.486825\n",
      "[35]\ttrain-logloss:0.477574\tvalid-logloss:0.482345\n",
      "[40]\ttrain-logloss:0.473553\tvalid-logloss:0.478775\n",
      "[45]\ttrain-logloss:0.468251\tvalid-logloss:0.47378\n",
      "[50]\ttrain-logloss:0.46507\tvalid-logloss:0.471317\n",
      "[55]\ttrain-logloss:0.462468\tvalid-logloss:0.468892\n",
      "[60]\ttrain-logloss:0.459871\tvalid-logloss:0.46657\n",
      "[65]\ttrain-logloss:0.457598\tvalid-logloss:0.464801\n",
      "[70]\ttrain-logloss:0.455004\tvalid-logloss:0.462572\n",
      "[75]\ttrain-logloss:0.452525\tvalid-logloss:0.460526\n",
      "[80]\ttrain-logloss:0.450248\tvalid-logloss:0.458435\n",
      "[85]\ttrain-logloss:0.447949\tvalid-logloss:0.456387\n",
      "[90]\ttrain-logloss:0.443412\tvalid-logloss:0.452057\n",
      "[95]\ttrain-logloss:0.441473\tvalid-logloss:0.4505\n",
      "[100]\ttrain-logloss:0.439812\tvalid-logloss:0.449164\n",
      "[105]\ttrain-logloss:0.438254\tvalid-logloss:0.447929\n",
      "[110]\ttrain-logloss:0.436798\tvalid-logloss:0.446797\n",
      "[115]\ttrain-logloss:0.43527\tvalid-logloss:0.44564\n",
      "[120]\ttrain-logloss:0.433956\tvalid-logloss:0.444495\n",
      "[125]\ttrain-logloss:0.431992\tvalid-logloss:0.442827\n",
      "[130]\ttrain-logloss:0.43082\tvalid-logloss:0.44194\n",
      "[135]\ttrain-logloss:0.429311\tvalid-logloss:0.440554\n",
      "[140]\ttrain-logloss:0.427933\tvalid-logloss:0.43945\n",
      "[145]\ttrain-logloss:0.426564\tvalid-logloss:0.438426\n",
      "[150]\ttrain-logloss:0.42504\tvalid-logloss:0.437217\n",
      "[155]\ttrain-logloss:0.423856\tvalid-logloss:0.436325\n",
      "[160]\ttrain-logloss:0.422724\tvalid-logloss:0.435612\n",
      "[165]\ttrain-logloss:0.421675\tvalid-logloss:0.434718\n",
      "[170]\ttrain-logloss:0.420672\tvalid-logloss:0.433847\n",
      "[175]\ttrain-logloss:0.419734\tvalid-logloss:0.433027\n",
      "[180]\ttrain-logloss:0.418628\tvalid-logloss:0.432306\n",
      "[185]\ttrain-logloss:0.41766\tvalid-logloss:0.431693\n",
      "[190]\ttrain-logloss:0.416815\tvalid-logloss:0.431128\n",
      "[195]\ttrain-logloss:0.415796\tvalid-logloss:0.43037\n",
      "[200]\ttrain-logloss:0.414851\tvalid-logloss:0.429696\n",
      "[205]\ttrain-logloss:0.413838\tvalid-logloss:0.428989\n",
      "[210]\ttrain-logloss:0.413015\tvalid-logloss:0.428465\n",
      "[215]\ttrain-logloss:0.412211\tvalid-logloss:0.427798\n",
      "[220]\ttrain-logloss:0.411294\tvalid-logloss:0.427282\n",
      "[225]\ttrain-logloss:0.410415\tvalid-logloss:0.426655\n",
      "[230]\ttrain-logloss:0.409622\tvalid-logloss:0.426195\n",
      "[235]\ttrain-logloss:0.408905\tvalid-logloss:0.425865\n",
      "[240]\ttrain-logloss:0.40793\tvalid-logloss:0.425142\n",
      "[245]\ttrain-logloss:0.407162\tvalid-logloss:0.42465\n",
      "[250]\ttrain-logloss:0.406316\tvalid-logloss:0.42399\n",
      "[255]\ttrain-logloss:0.405575\tvalid-logloss:0.423485\n",
      "[260]\ttrain-logloss:0.404751\tvalid-logloss:0.423\n",
      "[265]\ttrain-logloss:0.403661\tvalid-logloss:0.422131\n",
      "[270]\ttrain-logloss:0.402862\tvalid-logloss:0.421544\n",
      "[275]\ttrain-logloss:0.402118\tvalid-logloss:0.420996\n",
      "[280]\ttrain-logloss:0.40132\tvalid-logloss:0.420454\n",
      "[285]\ttrain-logloss:0.400587\tvalid-logloss:0.419973\n",
      "[290]\ttrain-logloss:0.399854\tvalid-logloss:0.419433\n",
      "[295]\ttrain-logloss:0.399156\tvalid-logloss:0.418958\n",
      "[300]\ttrain-logloss:0.398519\tvalid-logloss:0.41845\n",
      "[305]\ttrain-logloss:0.397782\tvalid-logloss:0.417993\n",
      "[310]\ttrain-logloss:0.397287\tvalid-logloss:0.417708\n",
      "[315]\ttrain-logloss:0.396583\tvalid-logloss:0.417334\n",
      "[320]\ttrain-logloss:0.39549\tvalid-logloss:0.416428\n",
      "[325]\ttrain-logloss:0.394835\tvalid-logloss:0.416045\n",
      "[330]\ttrain-logloss:0.394171\tvalid-logloss:0.415558\n",
      "[335]\ttrain-logloss:0.393305\tvalid-logloss:0.414906\n",
      "[340]\ttrain-logloss:0.392717\tvalid-logloss:0.414524\n",
      "[345]\ttrain-logloss:0.392163\tvalid-logloss:0.414213\n",
      "[350]\ttrain-logloss:0.391329\tvalid-logloss:0.413573\n",
      "[355]\ttrain-logloss:0.390636\tvalid-logloss:0.413148\n",
      "[360]\ttrain-logloss:0.389804\tvalid-logloss:0.412686\n",
      "[365]\ttrain-logloss:0.389239\tvalid-logloss:0.412339\n",
      "[370]\ttrain-logloss:0.388498\tvalid-logloss:0.411863\n",
      "[375]\ttrain-logloss:0.387446\tvalid-logloss:0.411127\n",
      "[380]\ttrain-logloss:0.386603\tvalid-logloss:0.41045\n",
      "[385]\ttrain-logloss:0.386126\tvalid-logloss:0.410104\n",
      "[390]\ttrain-logloss:0.385618\tvalid-logloss:0.409786\n",
      "[395]\ttrain-logloss:0.385166\tvalid-logloss:0.409497\n",
      "[399]\ttrain-logloss:0.384741\tvalid-logloss:0.40925\n"
     ]
    }
   ],
   "source": [
    "from sklearn.model_selection import train_test_split\n",
    "from sklearn.model_selection import cross_val_score\n",
    "from sklearn.metrics import precision_score\n",
    "import xgboost as xgb\n",
    "\n",
    "X_train, X_valid, y_train, y_valid = train_test_split(X, y, test_size=0.25, random_state=233)\n",
    "\n",
    "dtrain = xgb.DMatrix(X_train, label=y_train)\n",
    "dvalid = xgb.DMatrix(X_valid, label=y_valid)\n",
    "\n",
    "# specify parameters via map\n",
    "param = {'max_depth':4, 'eta':0.02, 'silent':0, 'objective':'binary:logistic', 'eval_metric':'logloss'}\n",
    "num_round = 400\n",
    "watchlist = [(dtrain, 'train'), (dvalid, 'valid')]\n",
    "\n",
    "bst = xgb.train(param, dtrain, num_round, watchlist, early_stopping_rounds=50, verbose_eval=10)\n",
    "# bst = xgb.train(param, dtrain, num_round, verbose_eval=5)"
   ]
  },
  {
   "cell_type": "code",
   "execution_count": 68,
   "metadata": {},
   "outputs": [
    {
     "name": "stdout",
     "output_type": "stream",
     "text": [
      "Accuracy: 80.72290101479054\n",
      "Precision Score: 0.8099908238171298\n",
      "Log Loss: 17.36744046665682\n"
     ]
    }
   ],
   "source": [
    "from sklearn.metrics import f1_score, classification_report, accuracy_score\n",
    "from sklearn.metrics import log_loss\n",
    "\n",
    "# make prediction\n",
    "y_preds = bst.predict(dvalid)\n",
    "best_preds = np.asarray([np.argmax(line) for line in y_preds])\n",
    "predictions = [round(value) for value in y_preds]\n",
    "               \n",
    "accuracy = accuracy_score(y_valid, predictions)\n",
    "print(\"Accuracy:\", accuracy * 100.0)\n",
    "\n",
    "print(\"Precision Score:\", precision_score(y_valid, predictions, average='macro'))\n",
    "print(\"Log Loss:\", log_loss(y_valid, best_preds))"
   ]
  },
  {
   "cell_type": "markdown",
   "metadata": {},
   "source": [
    "## Submission"
   ]
  },
  {
   "cell_type": "code",
   "execution_count": 69,
   "metadata": {},
   "outputs": [],
   "source": [
    "# submission\n",
    "df_test = pd.read_csv(\"input/test.csv\")"
   ]
  },
  {
   "cell_type": "code",
   "execution_count": 70,
   "metadata": {},
   "outputs": [
    {
     "data": {
      "text/plain": [
       "(2345796, 3)"
      ]
     },
     "execution_count": 70,
     "metadata": {},
     "output_type": "execute_result"
    }
   ],
   "source": [
    "df_test.shape"
   ]
  },
  {
   "cell_type": "markdown",
   "metadata": {},
   "source": [
    "### Pré-processamento"
   ]
  },
  {
   "cell_type": "code",
   "execution_count": 71,
   "metadata": {},
   "outputs": [
    {
     "name": "stdout",
     "output_type": "stream",
     "text": [
      "CPU times: user 10min 50s, sys: 5.94 s, total: 10min 56s\n",
      "Wall time: 11min 32s\n"
     ]
    }
   ],
   "source": [
    "%%time\n",
    "df_test.fillna('', inplace=True)\n",
    "\n",
    "df_test['question1'] = df_test['question1'].map(lambda q: question_preprocessing(q))\n",
    "df_test['question2'] = df_test['question2'].map(lambda q: question_preprocessing(q))"
   ]
  },
  {
   "cell_type": "code",
   "execution_count": 72,
   "metadata": {},
   "outputs": [],
   "source": [
    "# %%time\n",
    "# df_test['dist'] = df_test.apply(lambda x: euclidean_dist(x['question1'], x['question2']), axis=1)"
   ]
  },
  {
   "cell_type": "code",
   "execution_count": 73,
   "metadata": {},
   "outputs": [
    {
     "name": "stdout",
     "output_type": "stream",
     "text": [
      "CPU times: user 1min 36s, sys: 1.4 s, total: 1min 37s\n",
      "Wall time: 1min 40s\n"
     ]
    }
   ],
   "source": [
    "%%time\n",
    "df_test['q1_words'] = df_test.apply(lambda row: len(row['question1'].split(' ')), axis=1)\n",
    "df_test['q2_words'] = df_test.apply(lambda row: len(row['question2'].split(' ')), axis=1)"
   ]
  },
  {
   "cell_type": "code",
   "execution_count": 74,
   "metadata": {},
   "outputs": [
    {
     "name": "stdout",
     "output_type": "stream",
     "text": [
      "CPU times: user 1min 31s, sys: 1.08 s, total: 1min 32s\n",
      "Wall time: 1min 34s\n"
     ]
    }
   ],
   "source": [
    "%%time\n",
    "df_test['q1_len'] = df_test.apply(lambda row: len(row['question1']), axis=1)\n",
    "df_test['q2_len'] = df_test.apply(lambda row: len(row['question2']), axis=1)"
   ]
  },
  {
   "cell_type": "code",
   "execution_count": 75,
   "metadata": {},
   "outputs": [
    {
     "name": "stdout",
     "output_type": "stream",
     "text": [
      "CPU times: user 1min 26s, sys: 870 ms, total: 1min 27s\n",
      "Wall time: 1min 28s\n"
     ]
    }
   ],
   "source": [
    "%%time\n",
    "df_test['word_share'] = df_test.apply(word_share, axis=1)"
   ]
  },
  {
   "cell_type": "code",
   "execution_count": 76,
   "metadata": {},
   "outputs": [
    {
     "name": "stderr",
     "output_type": "stream",
     "text": [
      "/usr/local/lib/python3.7/site-packages/ipykernel_launcher.py:23: RuntimeWarning: invalid value encountered in double_scalars\n"
     ]
    },
    {
     "name": "stdout",
     "output_type": "stream",
     "text": [
      "CPU times: user 2min 55s, sys: 2.4 s, total: 2min 58s\n",
      "Wall time: 3min 3s\n"
     ]
    }
   ],
   "source": [
    "%%time\n",
    "df_test['word_share_weight'] = df_test.apply(word_share_weight, axis=1)"
   ]
  },
  {
   "cell_type": "code",
   "execution_count": 77,
   "metadata": {},
   "outputs": [
    {
     "data": {
      "text/html": [
       "<div>\n",
       "<style scoped>\n",
       "    .dataframe tbody tr th:only-of-type {\n",
       "        vertical-align: middle;\n",
       "    }\n",
       "\n",
       "    .dataframe tbody tr th {\n",
       "        vertical-align: top;\n",
       "    }\n",
       "\n",
       "    .dataframe thead th {\n",
       "        text-align: right;\n",
       "    }\n",
       "</style>\n",
       "<table border=\"1\" class=\"dataframe\">\n",
       "  <thead>\n",
       "    <tr style=\"text-align: right;\">\n",
       "      <th></th>\n",
       "      <th>test_id</th>\n",
       "      <th>question1</th>\n",
       "      <th>question2</th>\n",
       "      <th>q1_words</th>\n",
       "      <th>q2_words</th>\n",
       "      <th>q1_len</th>\n",
       "      <th>q2_len</th>\n",
       "      <th>word_share</th>\n",
       "      <th>word_share_weight</th>\n",
       "    </tr>\n",
       "  </thead>\n",
       "  <tbody>\n",
       "    <tr>\n",
       "      <th>0</th>\n",
       "      <td>0</td>\n",
       "      <td>how surfac pro compar ipad pro</td>\n",
       "      <td>why microsoft choos core core home surfac pro</td>\n",
       "      <td>6</td>\n",
       "      <td>8</td>\n",
       "      <td>30</td>\n",
       "      <td>45</td>\n",
       "      <td>0.333333</td>\n",
       "      <td>0.349978</td>\n",
       "    </tr>\n",
       "    <tr>\n",
       "      <th>1</th>\n",
       "      <td>1</td>\n",
       "      <td>hair transplant ag how much would cost</td>\n",
       "      <td>how much cost hair transplant requir</td>\n",
       "      <td>7</td>\n",
       "      <td>6</td>\n",
       "      <td>38</td>\n",
       "      <td>36</td>\n",
       "      <td>0.769231</td>\n",
       "      <td>0.841381</td>\n",
       "    </tr>\n",
       "    <tr>\n",
       "      <th>2</th>\n",
       "      <td>2</td>\n",
       "      <td>what best wai send monei china</td>\n",
       "      <td>what send monei china</td>\n",
       "      <td>6</td>\n",
       "      <td>4</td>\n",
       "      <td>30</td>\n",
       "      <td>21</td>\n",
       "      <td>0.800000</td>\n",
       "      <td>0.840460</td>\n",
       "    </tr>\n",
       "    <tr>\n",
       "      <th>3</th>\n",
       "      <td>3</td>\n",
       "      <td>which food emulsifi</td>\n",
       "      <td>what food fibr</td>\n",
       "      <td>3</td>\n",
       "      <td>3</td>\n",
       "      <td>19</td>\n",
       "      <td>14</td>\n",
       "      <td>0.333333</td>\n",
       "      <td>0.299672</td>\n",
       "    </tr>\n",
       "    <tr>\n",
       "      <th>4</th>\n",
       "      <td>4</td>\n",
       "      <td>how aberystwyth start read</td>\n",
       "      <td>how start read</td>\n",
       "      <td>4</td>\n",
       "      <td>3</td>\n",
       "      <td>26</td>\n",
       "      <td>14</td>\n",
       "      <td>0.857143</td>\n",
       "      <td>1.000000</td>\n",
       "    </tr>\n",
       "  </tbody>\n",
       "</table>\n",
       "</div>"
      ],
      "text/plain": [
       "   test_id                               question1  \\\n",
       "0        0          how surfac pro compar ipad pro   \n",
       "1        1  hair transplant ag how much would cost   \n",
       "2        2          what best wai send monei china   \n",
       "3        3                     which food emulsifi   \n",
       "4        4              how aberystwyth start read   \n",
       "\n",
       "                                       question2  q1_words  q2_words  q1_len  \\\n",
       "0  why microsoft choos core core home surfac pro         6         8      30   \n",
       "1           how much cost hair transplant requir         7         6      38   \n",
       "2                          what send monei china         6         4      30   \n",
       "3                                 what food fibr         3         3      19   \n",
       "4                                 how start read         4         3      26   \n",
       "\n",
       "   q2_len  word_share  word_share_weight  \n",
       "0      45    0.333333           0.349978  \n",
       "1      36    0.769231           0.841381  \n",
       "2      21    0.800000           0.840460  \n",
       "3      14    0.333333           0.299672  \n",
       "4      14    0.857143           1.000000  "
      ]
     },
     "execution_count": 77,
     "metadata": {},
     "output_type": "execute_result"
    }
   ],
   "source": [
    "df_test.head()"
   ]
  },
  {
   "cell_type": "code",
   "execution_count": 87,
   "metadata": {},
   "outputs": [
    {
     "data": {
      "text/plain": [
       "(2345796, 9)"
      ]
     },
     "execution_count": 87,
     "metadata": {},
     "output_type": "execute_result"
    }
   ],
   "source": [
    "df_test.shape"
   ]
  },
  {
   "cell_type": "code",
   "execution_count": 78,
   "metadata": {},
   "outputs": [],
   "source": [
    "# df_test_over_norm = Normalizer(norm='l1').fit_transform(df_test.drop(['question1', 'question2', 'test_id'], axis=1))"
   ]
  },
  {
   "cell_type": "code",
   "execution_count": 79,
   "metadata": {},
   "outputs": [],
   "source": [
    "# df_test_norm = Normalizer(norm='l1').fit_transform(df_test.drop(['question1', 'question2','test_id', 'word_share'], axis=1))"
   ]
  },
  {
   "cell_type": "code",
   "execution_count": 80,
   "metadata": {},
   "outputs": [],
   "source": [
    "# df_test_norm = pd.DataFrame(df_test_norm)\n",
    "# df_test_norm['4'] = df_test['word_share'].values\n",
    "# df_test_norm.head()"
   ]
  },
  {
   "cell_type": "code",
   "execution_count": 81,
   "metadata": {},
   "outputs": [],
   "source": [
    "# %%time\n",
    "# x_test_vec_q1 = vectorizer.transform(df_test['question1'].values)\n",
    "# x_test_vec_q2 = vectorizer.transform(df_test['question2'].values)\n",
    "\n",
    "# X_test = hstack((x_test_vec_q1, x_test_vec_q2))\n",
    "\n",
    "# print('Test {}'.format(X.shape))"
   ]
  },
  {
   "cell_type": "code",
   "execution_count": 82,
   "metadata": {},
   "outputs": [],
   "source": [
    "# X_test = df_test.drop(['question1', 'question2','test_id'], axis=1)\n",
    "# X_test = df_test_norm.values"
   ]
  },
  {
   "cell_type": "code",
   "execution_count": 88,
   "metadata": {},
   "outputs": [
    {
     "name": "stdout",
     "output_type": "stream",
     "text": [
      "x_test_vec_q1 (2345796, 57613)\n",
      "x_test_vec_q2 (2345796, 57613)\n",
      "features_test_eng (2345796, 6)\n",
      "\n",
      "Test (2345796, 115232)\n",
      "CPU times: user 55.6 s, sys: 4.22 s, total: 59.8 s\n",
      "Wall time: 1min 2s\n"
     ]
    }
   ],
   "source": [
    "%%time\n",
    "\n",
    "x_test_vec_q1 = vectorizer.transform(df_test['question1'].values)\n",
    "x_test_vec_q2 = vectorizer.transform(df_test['question2'].values)\n",
    "features_test_eng = df_test.drop(['question1', 'question2', 'test_id'], axis=1).values\n",
    "\n",
    "X_test = hstack([features_test_eng, x_test_vec_q1, x_test_vec_q2])\n",
    "\n",
    "print('x_test_vec_q1 {}'.format(x_test_vec_q1.shape))\n",
    "print('x_test_vec_q2 {}'.format(x_test_vec_q2.shape))\n",
    "print('features_test_eng {}'.format(features_test_eng.shape))\n",
    "print()\n",
    "print('Test {}'.format(X_test.shape))"
   ]
  },
  {
   "cell_type": "code",
   "execution_count": 89,
   "metadata": {},
   "outputs": [],
   "source": [
    "d_test = xgb.DMatrix(X_test)\n",
    "p_test = bst.predict(d_test)\n",
    "\n",
    "sub = pd.DataFrame()\n",
    "sub['test_id'] = df_test['test_id']\n",
    "sub['is_duplicate'] = p_test\n",
    "sub.to_csv('submission3.csv', index=False)"
   ]
  },
  {
   "cell_type": "code",
   "execution_count": 190,
   "metadata": {},
   "outputs": [
    {
     "data": {
      "text/plain": [
       "'tree_4_saved_3.png'"
      ]
     },
     "execution_count": 190,
     "metadata": {},
     "output_type": "execute_result"
    }
   ],
   "source": [
    "# xgb.plot_tree(bst, num_trees=0)\n",
    "# plt.rcParams['figure.figsize'] = [500, 200]\n",
    "# fig.set_size_inches(50, 50)\n",
    "# plt.show()\n",
    "\n",
    "graph_to_save = xgb.to_graphviz(bst, num_trees = 4)\n",
    "graph_to_save.format = 'png'            \n",
    "graph_to_save.render('tree_4_saved_3')"
   ]
  },
  {
   "cell_type": "code",
   "execution_count": 97,
   "metadata": {},
   "outputs": [],
   "source": [
    "# xgb.plot_importance(bst, max_num_features=10)"
   ]
  },
  {
   "cell_type": "code",
   "execution_count": 154,
   "metadata": {},
   "outputs": [],
   "source": [
    "feat_weight = bst.get_score(importance_type='weight')\n",
    "feat_gain = bst.get_score(importance_type='gain')"
   ]
  },
  {
   "cell_type": "code",
   "execution_count": 155,
   "metadata": {},
   "outputs": [],
   "source": [
    "from collections import OrderedDict\n",
    "\n",
    "feat_weight_sort = OrderedDict(sorted(feat_weight.items(), key=lambda t: t[1]))\n",
    "feat_gain_sort = OrderedDict(sorted(feat_gain.items(), key=lambda t: t[1]))"
   ]
  },
  {
   "cell_type": "code",
   "execution_count": 169,
   "metadata": {},
   "outputs": [
    {
     "name": "stdout",
     "output_type": "stream",
     "text": [
      "f55629 42\n",
      "f0 55\n",
      "f3 97\n",
      "f2 98\n",
      "f22603 101\n",
      "f80216 105\n",
      "f113055 131\n",
      "f55442 163\n",
      "f4 250\n",
      "f5 343\n"
     ]
    }
   ],
   "source": [
    "i = 0\n",
    "k = []\n",
    "values = []\n",
    "for key, value in feat_weight_sort.items():\n",
    "    i+=1  \n",
    "    if(i > len(feat_weight.items())-10):\n",
    "        print(key, value)\n",
    "        k.append(key)\n",
    "        values.append(value)"
   ]
  },
  {
   "cell_type": "code",
   "execution_count": 170,
   "metadata": {},
   "outputs": [],
   "source": [
    "k.reverse()\n",
    "values.reverse()"
   ]
  },
  {
   "cell_type": "code",
   "execution_count": 182,
   "metadata": {},
   "outputs": [],
   "source": [
    "def replace_feature(w):\n",
    "    l = {\n",
    "        'f0': 'q1_words',\n",
    "        'f1': 'q2_words\t',\n",
    "        'f2': 'q1_len',\n",
    "        'f3': 'q2_len',\n",
    "        'f4': 'word_share',\n",
    "        'f5': 'word_share_weight',\n",
    "        }\n",
    "    \n",
    "    if w in l.keys():\n",
    "        return l[w]\n",
    "    else:\n",
    "        return w"
   ]
  },
  {
   "cell_type": "code",
   "execution_count": 184,
   "metadata": {},
   "outputs": [
    {
     "data": {
      "text/plain": [
       "['word_share_weight',\n",
       " 'word_share',\n",
       " 'f55442',\n",
       " 'f113055',\n",
       " 'f80216',\n",
       " 'f22603',\n",
       " 'q1_len',\n",
       " 'q2_len',\n",
       " 'q1_words',\n",
       " 'f55629']"
      ]
     },
     "execution_count": 184,
     "metadata": {},
     "output_type": "execute_result"
    }
   ],
   "source": [
    "lables = [replace_feature(w) for w in k]\n",
    "lables"
   ]
  },
  {
   "cell_type": "code",
   "execution_count": 186,
   "metadata": {},
   "outputs": [
    {
     "data": {
      "image/png": "[encoded data removed]",
      "text/plain": [
       "<Figure size 504x504 with 1 Axes>"
      ]
     },
     "metadata": {},
     "output_type": "display_data"
    }
   ],
   "source": [
    "sns.set(style=\"whitegrid\", palette=\"muted\", color_codes=True)\n",
    "\n",
    "fig, ax = plt.subplots(figsize=(7, 7), sharex=True)\n",
    "\n",
    "ax.barh(lables, values, align='center')\n",
    "ax.set_yticks(lables)\n",
    "ax.set_yticklabels(lables)\n",
    "ax.invert_yaxis()  # labels read top-to-bottom\n",
    "ax.set_xlabel('F Score')\n",
    "ax.set_ylabel('Features')\n",
    "\n",
    "plt.show()"
   ]
  }
 ],
 "metadata": {
  "kernelspec": {
   "display_name": "Python 3",
   "language": "python",
   "name": "python3"
  },
  "language_info": {
   "codemirror_mode": {
    "name": "ipython",
    "version": 3
   },
   "file_extension": ".py",
   "mimetype": "text/x-python",
   "name": "python",
   "nbconvert_exporter": "python",
   "pygments_lexer": "ipython3",
   "version": "3.7.3"
  }
 },
 "nbformat": 4,
 "nbformat_minor": 2
}
